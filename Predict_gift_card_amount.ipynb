{
  "nbformat": 4,
  "nbformat_minor": 0,
  "metadata": {
    "colab": {
      "name": "Predict gift_card amount",
      "provenance": [],
      "collapsed_sections": []
    },
    "kernelspec": {
      "name": "python3",
      "display_name": "Python 3"
    },
    "language_info": {
      "name": "python"
    }
  },
  "cells": [
    {
      "cell_type": "code",
      "metadata": {
        "colab": {
          "base_uri": "https://localhost:8080/"
        },
        "id": "bADC8QZmSLMV",
        "outputId": "88e63482-3253-412f-8994-255dc5cc9b99"
      },
      "source": [
        "from google.colab import drive\n",
        "drive.mount('/content/drive')"
      ],
      "execution_count": null,
      "outputs": [
        {
          "output_type": "stream",
          "name": "stdout",
          "text": [
            "Drive already mounted at /content/drive; to attempt to forcibly remount, call drive.mount(\"/content/drive\", force_remount=True).\n"
          ]
        }
      ]
    },
    {
      "cell_type": "code",
      "metadata": {
        "id": "ZEHkLxYsTJ95"
      },
      "source": [
        "##importing all required library\n",
        "import pandas as pd\n",
        "import numpy as np\n",
        "import matplotlib.pyplot as plt\n",
        "import seaborn as sns\n",
        "\n",
        "data = pd.read_csv(\"/content/drive/MyDrive/Colab Notebooks/dataset/train.csv\")"
      ],
      "execution_count": null,
      "outputs": []
    },
    {
      "cell_type": "code",
      "metadata": {
        "colab": {
          "base_uri": "https://localhost:8080/",
          "height": 313
        },
        "id": "Pbc8TcPeTonT",
        "outputId": "1de07ea3-c81a-4b3c-aba0-495660aae66f"
      },
      "source": [
        "##checking the dataset\n",
        "data.head()"
      ],
      "execution_count": null,
      "outputs": [
        {
          "output_type": "execute_result",
          "data": {
            "text/html": [
              "<div>\n",
              "<style scoped>\n",
              "    .dataframe tbody tr th:only-of-type {\n",
              "        vertical-align: middle;\n",
              "    }\n",
              "\n",
              "    .dataframe tbody tr th {\n",
              "        vertical-align: top;\n",
              "    }\n",
              "\n",
              "    .dataframe thead th {\n",
              "        text-align: right;\n",
              "    }\n",
              "</style>\n",
              "<table border=\"1\" class=\"dataframe\">\n",
              "  <thead>\n",
              "    <tr style=\"text-align: right;\">\n",
              "      <th></th>\n",
              "      <th>Customer_ID</th>\n",
              "      <th>Sign_up_date</th>\n",
              "      <th>Last_order_placed_date</th>\n",
              "      <th>No_of_orders_placed</th>\n",
              "      <th>Maximum_bill</th>\n",
              "      <th>Minimum_bill</th>\n",
              "      <th>No_of_Review_given</th>\n",
              "      <th>No_of_Comment_added</th>\n",
              "      <th>No_of_Images_added</th>\n",
              "      <th>No_of_issues_raised</th>\n",
              "      <th>Orders_returned</th>\n",
              "      <th>Category_of_customers</th>\n",
              "      <th>Gender</th>\n",
              "      <th>Premium</th>\n",
              "      <th>Gift_card_amount</th>\n",
              "    </tr>\n",
              "  </thead>\n",
              "  <tbody>\n",
              "    <tr>\n",
              "      <th>0</th>\n",
              "      <td>ID0x340a</td>\n",
              "      <td>09/22/2012 05:57 AM</td>\n",
              "      <td>12/12/2020 01:01 AM</td>\n",
              "      <td>152</td>\n",
              "      <td>NaN</td>\n",
              "      <td>161.37</td>\n",
              "      <td>76.0</td>\n",
              "      <td>29</td>\n",
              "      <td>NaN</td>\n",
              "      <td>33</td>\n",
              "      <td>4</td>\n",
              "      <td>Active</td>\n",
              "      <td>Female</td>\n",
              "      <td>No</td>\n",
              "      <td>112</td>\n",
              "    </tr>\n",
              "    <tr>\n",
              "      <th>1</th>\n",
              "      <td>ID0x547</td>\n",
              "      <td>06/29/2017 08:24 PM</td>\n",
              "      <td>05/01/2019 07:07 AM</td>\n",
              "      <td>59</td>\n",
              "      <td>693.30</td>\n",
              "      <td>101.00</td>\n",
              "      <td>31.0</td>\n",
              "      <td>7</td>\n",
              "      <td>6.0</td>\n",
              "      <td>3</td>\n",
              "      <td>1</td>\n",
              "      <td>Active</td>\n",
              "      <td>Male</td>\n",
              "      <td>No</td>\n",
              "      <td>111</td>\n",
              "    </tr>\n",
              "    <tr>\n",
              "      <th>2</th>\n",
              "      <td>ID0x10d1</td>\n",
              "      <td>07/12/2014 06:24 AM</td>\n",
              "      <td>06/17/2015 08:28 AM</td>\n",
              "      <td>77</td>\n",
              "      <td>907.98</td>\n",
              "      <td>217.00</td>\n",
              "      <td>37.0</td>\n",
              "      <td>15</td>\n",
              "      <td>12.0</td>\n",
              "      <td>10</td>\n",
              "      <td>2</td>\n",
              "      <td>Passive</td>\n",
              "      <td>Female</td>\n",
              "      <td>No</td>\n",
              "      <td>37</td>\n",
              "    </tr>\n",
              "    <tr>\n",
              "      <th>3</th>\n",
              "      <td>ID0x2395</td>\n",
              "      <td>12/30/2013 03:34 PM</td>\n",
              "      <td>05/12/2018 03:30 AM</td>\n",
              "      <td>337</td>\n",
              "      <td>2406.31</td>\n",
              "      <td>239.43</td>\n",
              "      <td>153.0</td>\n",
              "      <td>40</td>\n",
              "      <td>46.0</td>\n",
              "      <td>50</td>\n",
              "      <td>19</td>\n",
              "      <td>Passive</td>\n",
              "      <td>Male</td>\n",
              "      <td>No</td>\n",
              "      <td>27</td>\n",
              "    </tr>\n",
              "    <tr>\n",
              "      <th>4</th>\n",
              "      <td>ID0x1fea</td>\n",
              "      <td>05/29/2015 02:29 AM</td>\n",
              "      <td>07/11/2018 01:18 PM</td>\n",
              "      <td>269</td>\n",
              "      <td>777.26</td>\n",
              "      <td>182.65</td>\n",
              "      <td>93.0</td>\n",
              "      <td>64</td>\n",
              "      <td>16.0</td>\n",
              "      <td>38</td>\n",
              "      <td>6</td>\n",
              "      <td>Passive</td>\n",
              "      <td>Female</td>\n",
              "      <td>Yes</td>\n",
              "      <td>123</td>\n",
              "    </tr>\n",
              "  </tbody>\n",
              "</table>\n",
              "</div>"
            ],
            "text/plain": [
              "  Customer_ID         Sign_up_date  ... Premium  Gift_card_amount\n",
              "0    ID0x340a  09/22/2012 05:57 AM  ...      No               112\n",
              "1     ID0x547  06/29/2017 08:24 PM  ...      No               111\n",
              "2    ID0x10d1  07/12/2014 06:24 AM  ...      No                37\n",
              "3    ID0x2395  12/30/2013 03:34 PM  ...      No                27\n",
              "4    ID0x1fea  05/29/2015 02:29 AM  ...     Yes               123\n",
              "\n",
              "[5 rows x 15 columns]"
            ]
          },
          "metadata": {},
          "execution_count": 4
        }
      ]
    },
    {
      "cell_type": "code",
      "metadata": {
        "id": "V408AwoFgY0t",
        "colab": {
          "base_uri": "https://localhost:8080/"
        },
        "outputId": "75a0739c-43cd-4faf-99e9-feb503eb8c48"
      },
      "source": [
        "print(data.info())"
      ],
      "execution_count": null,
      "outputs": [
        {
          "output_type": "stream",
          "name": "stdout",
          "text": [
            "<class 'pandas.core.frame.DataFrame'>\n",
            "RangeIndex: 12318 entries, 0 to 12317\n",
            "Data columns (total 15 columns):\n",
            " #   Column                  Non-Null Count  Dtype  \n",
            "---  ------                  --------------  -----  \n",
            " 0   Customer_ID             12318 non-null  object \n",
            " 1   Sign_up_date            12071 non-null  object \n",
            " 2   Last_order_placed_date  12019 non-null  object \n",
            " 3   No_of_orders_placed     12318 non-null  int64  \n",
            " 4   Maximum_bill            11953 non-null  float64\n",
            " 5   Minimum_bill            12318 non-null  float64\n",
            " 6   No_of_Review_given      11899 non-null  float64\n",
            " 7   No_of_Comment_added     12318 non-null  int64  \n",
            " 8   No_of_Images_added      11834 non-null  float64\n",
            " 9   No_of_issues_raised     12318 non-null  int64  \n",
            " 10  Orders_returned         12318 non-null  int64  \n",
            " 11  Category_of_customers   11696 non-null  object \n",
            " 12  Gender                  12318 non-null  object \n",
            " 13  Premium                 12318 non-null  object \n",
            " 14  Gift_card_amount        12318 non-null  int64  \n",
            "dtypes: float64(4), int64(5), object(6)\n",
            "memory usage: 1.4+ MB\n",
            "None\n"
          ]
        }
      ]
    },
    {
      "cell_type": "code",
      "metadata": {
        "id": "lc9WBAaLTZjS",
        "colab": {
          "base_uri": "https://localhost:8080/"
        },
        "outputId": "d8274069-86ac-4268-f921-79e442bbdd77"
      },
      "source": [
        "#calculating column missing percentage\n",
        "(round(100 * (data.isnull().sum() / data.shape[0]),2)).sort_values(ascending=False)"
      ],
      "execution_count": null,
      "outputs": [
        {
          "output_type": "execute_result",
          "data": {
            "text/plain": [
              "Category_of_customers     5.05\n",
              "No_of_Images_added        3.93\n",
              "No_of_Review_given        3.40\n",
              "Maximum_bill              2.96\n",
              "Last_order_placed_date    2.43\n",
              "Sign_up_date              2.01\n",
              "Gift_card_amount          0.00\n",
              "Premium                   0.00\n",
              "Gender                    0.00\n",
              "Orders_returned           0.00\n",
              "No_of_issues_raised       0.00\n",
              "No_of_Comment_added       0.00\n",
              "Minimum_bill              0.00\n",
              "No_of_orders_placed       0.00\n",
              "Customer_ID               0.00\n",
              "dtype: float64"
            ]
          },
          "metadata": {},
          "execution_count": 6
        }
      ]
    },
    {
      "cell_type": "code",
      "metadata": {
        "colab": {
          "base_uri": "https://localhost:8080/"
        },
        "id": "kkNvu8EaUI3E",
        "outputId": "8908e84c-04ee-489c-af9b-373432eece5f"
      },
      "source": [
        "data['Category_of_customers'].value_counts()"
      ],
      "execution_count": null,
      "outputs": [
        {
          "output_type": "execute_result",
          "data": {
            "text/plain": [
              "Active      5584\n",
              "Passive     4698\n",
              "Inactive    1414\n",
              "Name: Category_of_customers, dtype: int64"
            ]
          },
          "metadata": {},
          "execution_count": 8
        }
      ]
    },
    {
      "cell_type": "code",
      "metadata": {
        "colab": {
          "base_uri": "https://localhost:8080/",
          "height": 335
        },
        "id": "0moxt9K5bJdn",
        "outputId": "3a26f9e1-c036-4259-ec3d-4445feff8aee"
      },
      "source": [
        "##dist plot to check distribution of valribale \n",
        "sns.distplot(data['No_of_Images_added'])\n",
        "plt.show()"
      ],
      "execution_count": null,
      "outputs": [
        {
          "output_type": "stream",
          "name": "stderr",
          "text": [
            "/usr/local/lib/python3.7/dist-packages/seaborn/distributions.py:2619: FutureWarning: `distplot` is a deprecated function and will be removed in a future version. Please adapt your code to use either `displot` (a figure-level function with similar flexibility) or `histplot` (an axes-level function for histograms).\n",
            "  warnings.warn(msg, FutureWarning)\n"
          ]
        },
        {
          "output_type": "display_data",
          "data": {
            "image/png": "[encoded data removed]",
            "text/plain": [
              "<Figure size 432x288 with 1 Axes>"
            ]
          },
          "metadata": {
            "needs_background": "light"
          }
        }
      ]
    },
    {
      "cell_type": "code",
      "metadata": {
        "colab": {
          "base_uri": "https://localhost:8080/",
          "height": 339
        },
        "id": "Z21XKIqWgXpS",
        "outputId": "fa36c121-c6d5-4712-ca28-094b282232a8"
      },
      "source": [
        "sns.distplot(data['No_of_Review_given'])\n",
        "plt.show()"
      ],
      "execution_count": null,
      "outputs": [
        {
          "output_type": "stream",
          "name": "stderr",
          "text": [
            "/usr/local/lib/python3.7/dist-packages/seaborn/distributions.py:2619: FutureWarning: `distplot` is a deprecated function and will be removed in a future version. Please adapt your code to use either `displot` (a figure-level function with similar flexibility) or `histplot` (an axes-level function for histograms).\n",
            "  warnings.warn(msg, FutureWarning)\n"
          ]
        },
        {
          "output_type": "display_data",
          "data": {
            "image/png": "[encoded data removed]",
            "text/plain": [
              "<Figure size 432x288 with 1 Axes>"
            ]
          },
          "metadata": {
            "needs_background": "light"
          }
        }
      ]
    },
    {
      "cell_type": "code",
      "metadata": {
        "colab": {
          "base_uri": "https://localhost:8080/",
          "height": 335
        },
        "id": "Z3PbLVYpggPv",
        "outputId": "0a918835-d3d6-4517-90b8-8fe2b6496576"
      },
      "source": [
        "sns.distplot(data['Maximum_bill'])\n",
        "plt.show()"
      ],
      "execution_count": null,
      "outputs": [
        {
          "output_type": "stream",
          "name": "stderr",
          "text": [
            "/usr/local/lib/python3.7/dist-packages/seaborn/distributions.py:2619: FutureWarning: `distplot` is a deprecated function and will be removed in a future version. Please adapt your code to use either `displot` (a figure-level function with similar flexibility) or `histplot` (an axes-level function for histograms).\n",
            "  warnings.warn(msg, FutureWarning)\n"
          ]
        },
        {
          "output_type": "display_data",
          "data": {
            "image/png": "[encoded data removed]",
            "text/plain": [
              "<Figure size 432x288 with 1 Axes>"
            ]
          },
          "metadata": {
            "needs_background": "light"
          }
        }
      ]
    },
    {
      "cell_type": "code",
      "metadata": {
        "id": "_gGrdRkLhFQT"
      },
      "source": [
        "## Drop the date column as it will not be useful for gift card amount prediction\n",
        "data = data.drop(['Sign_up_date','Last_order_placed_date'], axis=1)"
      ],
      "execution_count": null,
      "outputs": []
    },
    {
      "cell_type": "code",
      "metadata": {
        "colab": {
          "base_uri": "https://localhost:8080/",
          "height": 226
        },
        "id": "9odmxCk0JZWb",
        "outputId": "bbafb7a8-a978-41bc-f3ad-077e864e1830"
      },
      "source": [
        "data.head()"
      ],
      "execution_count": null,
      "outputs": [
        {
          "output_type": "execute_result",
          "data": {
            "text/html": [
              "<div>\n",
              "<style scoped>\n",
              "    .dataframe tbody tr th:only-of-type {\n",
              "        vertical-align: middle;\n",
              "    }\n",
              "\n",
              "    .dataframe tbody tr th {\n",
              "        vertical-align: top;\n",
              "    }\n",
              "\n",
              "    .dataframe thead th {\n",
              "        text-align: right;\n",
              "    }\n",
              "</style>\n",
              "<table border=\"1\" class=\"dataframe\">\n",
              "  <thead>\n",
              "    <tr style=\"text-align: right;\">\n",
              "      <th></th>\n",
              "      <th>Customer_ID</th>\n",
              "      <th>No_of_orders_placed</th>\n",
              "      <th>Maximum_bill</th>\n",
              "      <th>Minimum_bill</th>\n",
              "      <th>No_of_Review_given</th>\n",
              "      <th>No_of_Comment_added</th>\n",
              "      <th>No_of_Images_added</th>\n",
              "      <th>No_of_issues_raised</th>\n",
              "      <th>Orders_returned</th>\n",
              "      <th>Category_of_customers</th>\n",
              "      <th>Gender</th>\n",
              "      <th>Premium</th>\n",
              "      <th>Gift_card_amount</th>\n",
              "    </tr>\n",
              "  </thead>\n",
              "  <tbody>\n",
              "    <tr>\n",
              "      <th>0</th>\n",
              "      <td>ID0x340a</td>\n",
              "      <td>152</td>\n",
              "      <td>NaN</td>\n",
              "      <td>161.37</td>\n",
              "      <td>76.0</td>\n",
              "      <td>29</td>\n",
              "      <td>NaN</td>\n",
              "      <td>33</td>\n",
              "      <td>4</td>\n",
              "      <td>Active</td>\n",
              "      <td>Female</td>\n",
              "      <td>No</td>\n",
              "      <td>112</td>\n",
              "    </tr>\n",
              "    <tr>\n",
              "      <th>1</th>\n",
              "      <td>ID0x547</td>\n",
              "      <td>59</td>\n",
              "      <td>693.30</td>\n",
              "      <td>101.00</td>\n",
              "      <td>31.0</td>\n",
              "      <td>7</td>\n",
              "      <td>6.0</td>\n",
              "      <td>3</td>\n",
              "      <td>1</td>\n",
              "      <td>Active</td>\n",
              "      <td>Male</td>\n",
              "      <td>No</td>\n",
              "      <td>111</td>\n",
              "    </tr>\n",
              "    <tr>\n",
              "      <th>2</th>\n",
              "      <td>ID0x10d1</td>\n",
              "      <td>77</td>\n",
              "      <td>907.98</td>\n",
              "      <td>217.00</td>\n",
              "      <td>37.0</td>\n",
              "      <td>15</td>\n",
              "      <td>12.0</td>\n",
              "      <td>10</td>\n",
              "      <td>2</td>\n",
              "      <td>Passive</td>\n",
              "      <td>Female</td>\n",
              "      <td>No</td>\n",
              "      <td>37</td>\n",
              "    </tr>\n",
              "    <tr>\n",
              "      <th>3</th>\n",
              "      <td>ID0x2395</td>\n",
              "      <td>337</td>\n",
              "      <td>2406.31</td>\n",
              "      <td>239.43</td>\n",
              "      <td>153.0</td>\n",
              "      <td>40</td>\n",
              "      <td>46.0</td>\n",
              "      <td>50</td>\n",
              "      <td>19</td>\n",
              "      <td>Passive</td>\n",
              "      <td>Male</td>\n",
              "      <td>No</td>\n",
              "      <td>27</td>\n",
              "    </tr>\n",
              "    <tr>\n",
              "      <th>4</th>\n",
              "      <td>ID0x1fea</td>\n",
              "      <td>269</td>\n",
              "      <td>777.26</td>\n",
              "      <td>182.65</td>\n",
              "      <td>93.0</td>\n",
              "      <td>64</td>\n",
              "      <td>16.0</td>\n",
              "      <td>38</td>\n",
              "      <td>6</td>\n",
              "      <td>Passive</td>\n",
              "      <td>Female</td>\n",
              "      <td>Yes</td>\n",
              "      <td>123</td>\n",
              "    </tr>\n",
              "  </tbody>\n",
              "</table>\n",
              "</div>"
            ],
            "text/plain": [
              "  Customer_ID  No_of_orders_placed  ...  Premium  Gift_card_amount\n",
              "0    ID0x340a                  152  ...       No               112\n",
              "1     ID0x547                   59  ...       No               111\n",
              "2    ID0x10d1                   77  ...       No                37\n",
              "3    ID0x2395                  337  ...       No                27\n",
              "4    ID0x1fea                  269  ...      Yes               123\n",
              "\n",
              "[5 rows x 13 columns]"
            ]
          },
          "metadata": {},
          "execution_count": 14
        }
      ]
    },
    {
      "cell_type": "code",
      "metadata": {
        "id": "NZa5v1YAJeAt"
      },
      "source": [
        "## filling missing values in Category_of_customers column with mode as it is categorical\n",
        "data['Category_of_customers'] = data['Category_of_customers'].fillna(data['Category_of_customers'].mode()[0])"
      ],
      "execution_count": null,
      "outputs": []
    },
    {
      "cell_type": "code",
      "metadata": {
        "colab": {
          "base_uri": "https://localhost:8080/",
          "height": 226
        },
        "id": "5HbZEVTob6_m",
        "outputId": "b721bd11-de14-4a82-de90-c5506b3c8309"
      },
      "source": [
        "data.head()"
      ],
      "execution_count": null,
      "outputs": [
        {
          "output_type": "execute_result",
          "data": {
            "text/html": [
              "<div>\n",
              "<style scoped>\n",
              "    .dataframe tbody tr th:only-of-type {\n",
              "        vertical-align: middle;\n",
              "    }\n",
              "\n",
              "    .dataframe tbody tr th {\n",
              "        vertical-align: top;\n",
              "    }\n",
              "\n",
              "    .dataframe thead th {\n",
              "        text-align: right;\n",
              "    }\n",
              "</style>\n",
              "<table border=\"1\" class=\"dataframe\">\n",
              "  <thead>\n",
              "    <tr style=\"text-align: right;\">\n",
              "      <th></th>\n",
              "      <th>Customer_ID</th>\n",
              "      <th>No_of_orders_placed</th>\n",
              "      <th>Maximum_bill</th>\n",
              "      <th>Minimum_bill</th>\n",
              "      <th>No_of_Review_given</th>\n",
              "      <th>No_of_Comment_added</th>\n",
              "      <th>No_of_Images_added</th>\n",
              "      <th>No_of_issues_raised</th>\n",
              "      <th>Orders_returned</th>\n",
              "      <th>Category_of_customers</th>\n",
              "      <th>Gender</th>\n",
              "      <th>Premium</th>\n",
              "      <th>Gift_card_amount</th>\n",
              "    </tr>\n",
              "  </thead>\n",
              "  <tbody>\n",
              "    <tr>\n",
              "      <th>0</th>\n",
              "      <td>ID0x340a</td>\n",
              "      <td>152</td>\n",
              "      <td>NaN</td>\n",
              "      <td>161.37</td>\n",
              "      <td>76.0</td>\n",
              "      <td>29</td>\n",
              "      <td>NaN</td>\n",
              "      <td>33</td>\n",
              "      <td>4</td>\n",
              "      <td>Active</td>\n",
              "      <td>Female</td>\n",
              "      <td>No</td>\n",
              "      <td>112</td>\n",
              "    </tr>\n",
              "    <tr>\n",
              "      <th>1</th>\n",
              "      <td>ID0x547</td>\n",
              "      <td>59</td>\n",
              "      <td>693.30</td>\n",
              "      <td>101.00</td>\n",
              "      <td>31.0</td>\n",
              "      <td>7</td>\n",
              "      <td>6.0</td>\n",
              "      <td>3</td>\n",
              "      <td>1</td>\n",
              "      <td>Active</td>\n",
              "      <td>Male</td>\n",
              "      <td>No</td>\n",
              "      <td>111</td>\n",
              "    </tr>\n",
              "    <tr>\n",
              "      <th>2</th>\n",
              "      <td>ID0x10d1</td>\n",
              "      <td>77</td>\n",
              "      <td>907.98</td>\n",
              "      <td>217.00</td>\n",
              "      <td>37.0</td>\n",
              "      <td>15</td>\n",
              "      <td>12.0</td>\n",
              "      <td>10</td>\n",
              "      <td>2</td>\n",
              "      <td>Passive</td>\n",
              "      <td>Female</td>\n",
              "      <td>No</td>\n",
              "      <td>37</td>\n",
              "    </tr>\n",
              "    <tr>\n",
              "      <th>3</th>\n",
              "      <td>ID0x2395</td>\n",
              "      <td>337</td>\n",
              "      <td>2406.31</td>\n",
              "      <td>239.43</td>\n",
              "      <td>153.0</td>\n",
              "      <td>40</td>\n",
              "      <td>46.0</td>\n",
              "      <td>50</td>\n",
              "      <td>19</td>\n",
              "      <td>Passive</td>\n",
              "      <td>Male</td>\n",
              "      <td>No</td>\n",
              "      <td>27</td>\n",
              "    </tr>\n",
              "    <tr>\n",
              "      <th>4</th>\n",
              "      <td>ID0x1fea</td>\n",
              "      <td>269</td>\n",
              "      <td>777.26</td>\n",
              "      <td>182.65</td>\n",
              "      <td>93.0</td>\n",
              "      <td>64</td>\n",
              "      <td>16.0</td>\n",
              "      <td>38</td>\n",
              "      <td>6</td>\n",
              "      <td>Passive</td>\n",
              "      <td>Female</td>\n",
              "      <td>Yes</td>\n",
              "      <td>123</td>\n",
              "    </tr>\n",
              "  </tbody>\n",
              "</table>\n",
              "</div>"
            ],
            "text/plain": [
              "  Customer_ID  No_of_orders_placed  ...  Premium  Gift_card_amount\n",
              "0    ID0x340a                  152  ...       No               112\n",
              "1     ID0x547                   59  ...       No               111\n",
              "2    ID0x10d1                   77  ...       No                37\n",
              "3    ID0x2395                  337  ...       No                27\n",
              "4    ID0x1fea                  269  ...      Yes               123\n",
              "\n",
              "[5 rows x 13 columns]"
            ]
          },
          "metadata": {},
          "execution_count": 16
        }
      ]
    },
    {
      "cell_type": "code",
      "metadata": {
        "colab": {
          "base_uri": "https://localhost:8080/"
        },
        "id": "wlUaymeXb1lQ",
        "outputId": "c7f3a618-298d-418d-8a21-79b038c2bf02"
      },
      "source": [
        "#calculating column missing percentage\n",
        "(round(100 * (data.isnull().sum() / data.shape[0]),2)).sort_values(ascending=False)"
      ],
      "execution_count": null,
      "outputs": [
        {
          "output_type": "execute_result",
          "data": {
            "text/plain": [
              "No_of_Images_added       3.93\n",
              "No_of_Review_given       3.40\n",
              "Maximum_bill             2.96\n",
              "Gift_card_amount         0.00\n",
              "Premium                  0.00\n",
              "Gender                   0.00\n",
              "Category_of_customers    0.00\n",
              "Orders_returned          0.00\n",
              "No_of_issues_raised      0.00\n",
              "No_of_Comment_added      0.00\n",
              "Minimum_bill             0.00\n",
              "No_of_orders_placed      0.00\n",
              "Customer_ID              0.00\n",
              "dtype: float64"
            ]
          },
          "metadata": {},
          "execution_count": 17
        }
      ]
    },
    {
      "cell_type": "code",
      "metadata": {
        "id": "YBlGEdPzcDNA"
      },
      "source": [
        "null_columns = ['No_of_Images_added','No_of_Review_given','Maximum_bill']"
      ],
      "execution_count": null,
      "outputs": []
    },
    {
      "cell_type": "code",
      "metadata": {
        "id": "JhWUNnRDd1Df"
      },
      "source": [
        "data_cleaned = data"
      ],
      "execution_count": null,
      "outputs": []
    },
    {
      "cell_type": "code",
      "metadata": {
        "id": "v5RQanMIqXNm"
      },
      "source": [
        "data_cleaned[null_columns] = data_cleaned[null_columns].fillna(data_cleaned[null_columns].median()[0])"
      ],
      "execution_count": null,
      "outputs": []
    },
    {
      "cell_type": "code",
      "metadata": {
        "colab": {
          "base_uri": "https://localhost:8080/"
        },
        "id": "F9cbfKOGrGzT",
        "outputId": "687f5d7d-3016-4bb7-997b-47cc37e3991b"
      },
      "source": [
        "#calculating column missing percentage\n",
        "(round(100 * (data_cleaned.isnull().sum() / data_cleaned.shape[0]),2)).sort_values(ascending=False)"
      ],
      "execution_count": null,
      "outputs": [
        {
          "output_type": "execute_result",
          "data": {
            "text/plain": [
              "Gift_card_amount         0.0\n",
              "Premium                  0.0\n",
              "Gender                   0.0\n",
              "Category_of_customers    0.0\n",
              "Orders_returned          0.0\n",
              "No_of_issues_raised      0.0\n",
              "No_of_Images_added       0.0\n",
              "No_of_Comment_added      0.0\n",
              "No_of_Review_given       0.0\n",
              "Minimum_bill             0.0\n",
              "Maximum_bill             0.0\n",
              "No_of_orders_placed      0.0\n",
              "Customer_ID              0.0\n",
              "dtype: float64"
            ]
          },
          "metadata": {},
          "execution_count": 21
        }
      ]
    },
    {
      "cell_type": "code",
      "metadata": {
        "colab": {
          "base_uri": "https://localhost:8080/",
          "height": 226
        },
        "id": "Xxx-Zy_CrNwr",
        "outputId": "9a36f531-1410-4445-b6d5-960426f8204e"
      },
      "source": [
        "data_cleaned.head()"
      ],
      "execution_count": null,
      "outputs": [
        {
          "output_type": "execute_result",
          "data": {
            "text/html": [
              "<div>\n",
              "<style scoped>\n",
              "    .dataframe tbody tr th:only-of-type {\n",
              "        vertical-align: middle;\n",
              "    }\n",
              "\n",
              "    .dataframe tbody tr th {\n",
              "        vertical-align: top;\n",
              "    }\n",
              "\n",
              "    .dataframe thead th {\n",
              "        text-align: right;\n",
              "    }\n",
              "</style>\n",
              "<table border=\"1\" class=\"dataframe\">\n",
              "  <thead>\n",
              "    <tr style=\"text-align: right;\">\n",
              "      <th></th>\n",
              "      <th>Customer_ID</th>\n",
              "      <th>No_of_orders_placed</th>\n",
              "      <th>Maximum_bill</th>\n",
              "      <th>Minimum_bill</th>\n",
              "      <th>No_of_Review_given</th>\n",
              "      <th>No_of_Comment_added</th>\n",
              "      <th>No_of_Images_added</th>\n",
              "      <th>No_of_issues_raised</th>\n",
              "      <th>Orders_returned</th>\n",
              "      <th>Category_of_customers</th>\n",
              "      <th>Gender</th>\n",
              "      <th>Premium</th>\n",
              "      <th>Gift_card_amount</th>\n",
              "    </tr>\n",
              "  </thead>\n",
              "  <tbody>\n",
              "    <tr>\n",
              "      <th>0</th>\n",
              "      <td>ID0x340a</td>\n",
              "      <td>152</td>\n",
              "      <td>8.00</td>\n",
              "      <td>161.37</td>\n",
              "      <td>76.0</td>\n",
              "      <td>29</td>\n",
              "      <td>8.0</td>\n",
              "      <td>33</td>\n",
              "      <td>4</td>\n",
              "      <td>Active</td>\n",
              "      <td>Female</td>\n",
              "      <td>No</td>\n",
              "      <td>112</td>\n",
              "    </tr>\n",
              "    <tr>\n",
              "      <th>1</th>\n",
              "      <td>ID0x547</td>\n",
              "      <td>59</td>\n",
              "      <td>693.30</td>\n",
              "      <td>101.00</td>\n",
              "      <td>31.0</td>\n",
              "      <td>7</td>\n",
              "      <td>6.0</td>\n",
              "      <td>3</td>\n",
              "      <td>1</td>\n",
              "      <td>Active</td>\n",
              "      <td>Male</td>\n",
              "      <td>No</td>\n",
              "      <td>111</td>\n",
              "    </tr>\n",
              "    <tr>\n",
              "      <th>2</th>\n",
              "      <td>ID0x10d1</td>\n",
              "      <td>77</td>\n",
              "      <td>907.98</td>\n",
              "      <td>217.00</td>\n",
              "      <td>37.0</td>\n",
              "      <td>15</td>\n",
              "      <td>12.0</td>\n",
              "      <td>10</td>\n",
              "      <td>2</td>\n",
              "      <td>Passive</td>\n",
              "      <td>Female</td>\n",
              "      <td>No</td>\n",
              "      <td>37</td>\n",
              "    </tr>\n",
              "    <tr>\n",
              "      <th>3</th>\n",
              "      <td>ID0x2395</td>\n",
              "      <td>337</td>\n",
              "      <td>2406.31</td>\n",
              "      <td>239.43</td>\n",
              "      <td>153.0</td>\n",
              "      <td>40</td>\n",
              "      <td>46.0</td>\n",
              "      <td>50</td>\n",
              "      <td>19</td>\n",
              "      <td>Passive</td>\n",
              "      <td>Male</td>\n",
              "      <td>No</td>\n",
              "      <td>27</td>\n",
              "    </tr>\n",
              "    <tr>\n",
              "      <th>4</th>\n",
              "      <td>ID0x1fea</td>\n",
              "      <td>269</td>\n",
              "      <td>777.26</td>\n",
              "      <td>182.65</td>\n",
              "      <td>93.0</td>\n",
              "      <td>64</td>\n",
              "      <td>16.0</td>\n",
              "      <td>38</td>\n",
              "      <td>6</td>\n",
              "      <td>Passive</td>\n",
              "      <td>Female</td>\n",
              "      <td>Yes</td>\n",
              "      <td>123</td>\n",
              "    </tr>\n",
              "  </tbody>\n",
              "</table>\n",
              "</div>"
            ],
            "text/plain": [
              "  Customer_ID  No_of_orders_placed  ...  Premium  Gift_card_amount\n",
              "0    ID0x340a                  152  ...       No               112\n",
              "1     ID0x547                   59  ...       No               111\n",
              "2    ID0x10d1                   77  ...       No                37\n",
              "3    ID0x2395                  337  ...       No                27\n",
              "4    ID0x1fea                  269  ...      Yes               123\n",
              "\n",
              "[5 rows x 13 columns]"
            ]
          },
          "metadata": {},
          "execution_count": 22
        }
      ]
    },
    {
      "cell_type": "code",
      "metadata": {
        "colab": {
          "base_uri": "https://localhost:8080/",
          "height": 351
        },
        "id": "ket09mxRrhff",
        "outputId": "3fb5b3eb-cdf3-4699-bf88-fe1ac03fb89d"
      },
      "source": [
        "# Correlation matrix\n",
        "cor = data_cleaned.corr()\n",
        "cor"
      ],
      "execution_count": null,
      "outputs": [
        {
          "output_type": "execute_result",
          "data": {
            "text/html": [
              "<div>\n",
              "<style scoped>\n",
              "    .dataframe tbody tr th:only-of-type {\n",
              "        vertical-align: middle;\n",
              "    }\n",
              "\n",
              "    .dataframe tbody tr th {\n",
              "        vertical-align: top;\n",
              "    }\n",
              "\n",
              "    .dataframe thead th {\n",
              "        text-align: right;\n",
              "    }\n",
              "</style>\n",
              "<table border=\"1\" class=\"dataframe\">\n",
              "  <thead>\n",
              "    <tr style=\"text-align: right;\">\n",
              "      <th></th>\n",
              "      <th>No_of_orders_placed</th>\n",
              "      <th>Maximum_bill</th>\n",
              "      <th>Minimum_bill</th>\n",
              "      <th>No_of_Review_given</th>\n",
              "      <th>No_of_Comment_added</th>\n",
              "      <th>No_of_Images_added</th>\n",
              "      <th>No_of_issues_raised</th>\n",
              "      <th>Orders_returned</th>\n",
              "      <th>Gift_card_amount</th>\n",
              "    </tr>\n",
              "  </thead>\n",
              "  <tbody>\n",
              "    <tr>\n",
              "      <th>No_of_orders_placed</th>\n",
              "      <td>1.000000</td>\n",
              "      <td>0.484439</td>\n",
              "      <td>0.271027</td>\n",
              "      <td>0.866173</td>\n",
              "      <td>0.838044</td>\n",
              "      <td>0.797141</td>\n",
              "      <td>0.702591</td>\n",
              "      <td>0.605214</td>\n",
              "      <td>0.564825</td>\n",
              "    </tr>\n",
              "    <tr>\n",
              "      <th>Maximum_bill</th>\n",
              "      <td>0.484439</td>\n",
              "      <td>1.000000</td>\n",
              "      <td>0.201452</td>\n",
              "      <td>0.481567</td>\n",
              "      <td>0.465668</td>\n",
              "      <td>0.437333</td>\n",
              "      <td>0.388137</td>\n",
              "      <td>0.332535</td>\n",
              "      <td>0.418342</td>\n",
              "    </tr>\n",
              "    <tr>\n",
              "      <th>Minimum_bill</th>\n",
              "      <td>0.271027</td>\n",
              "      <td>0.201452</td>\n",
              "      <td>1.000000</td>\n",
              "      <td>0.270193</td>\n",
              "      <td>0.261303</td>\n",
              "      <td>0.254931</td>\n",
              "      <td>0.220537</td>\n",
              "      <td>0.190872</td>\n",
              "      <td>0.247453</td>\n",
              "    </tr>\n",
              "    <tr>\n",
              "      <th>No_of_Review_given</th>\n",
              "      <td>0.866173</td>\n",
              "      <td>0.481567</td>\n",
              "      <td>0.270193</td>\n",
              "      <td>1.000000</td>\n",
              "      <td>0.845904</td>\n",
              "      <td>0.805813</td>\n",
              "      <td>0.707789</td>\n",
              "      <td>0.614843</td>\n",
              "      <td>0.565380</td>\n",
              "    </tr>\n",
              "    <tr>\n",
              "      <th>No_of_Comment_added</th>\n",
              "      <td>0.838044</td>\n",
              "      <td>0.465668</td>\n",
              "      <td>0.261303</td>\n",
              "      <td>0.845904</td>\n",
              "      <td>1.000000</td>\n",
              "      <td>0.776289</td>\n",
              "      <td>0.687981</td>\n",
              "      <td>0.595520</td>\n",
              "      <td>0.545856</td>\n",
              "    </tr>\n",
              "    <tr>\n",
              "      <th>No_of_Images_added</th>\n",
              "      <td>0.797141</td>\n",
              "      <td>0.437333</td>\n",
              "      <td>0.254931</td>\n",
              "      <td>0.805813</td>\n",
              "      <td>0.776289</td>\n",
              "      <td>1.000000</td>\n",
              "      <td>0.650590</td>\n",
              "      <td>0.561199</td>\n",
              "      <td>0.521434</td>\n",
              "    </tr>\n",
              "    <tr>\n",
              "      <th>No_of_issues_raised</th>\n",
              "      <td>0.702591</td>\n",
              "      <td>0.388137</td>\n",
              "      <td>0.220537</td>\n",
              "      <td>0.707789</td>\n",
              "      <td>0.687981</td>\n",
              "      <td>0.650590</td>\n",
              "      <td>1.000000</td>\n",
              "      <td>0.488384</td>\n",
              "      <td>0.463886</td>\n",
              "    </tr>\n",
              "    <tr>\n",
              "      <th>Orders_returned</th>\n",
              "      <td>0.605214</td>\n",
              "      <td>0.332535</td>\n",
              "      <td>0.190872</td>\n",
              "      <td>0.614843</td>\n",
              "      <td>0.595520</td>\n",
              "      <td>0.561199</td>\n",
              "      <td>0.488384</td>\n",
              "      <td>1.000000</td>\n",
              "      <td>0.331552</td>\n",
              "    </tr>\n",
              "    <tr>\n",
              "      <th>Gift_card_amount</th>\n",
              "      <td>0.564825</td>\n",
              "      <td>0.418342</td>\n",
              "      <td>0.247453</td>\n",
              "      <td>0.565380</td>\n",
              "      <td>0.545856</td>\n",
              "      <td>0.521434</td>\n",
              "      <td>0.463886</td>\n",
              "      <td>0.331552</td>\n",
              "      <td>1.000000</td>\n",
              "    </tr>\n",
              "  </tbody>\n",
              "</table>\n",
              "</div>"
            ],
            "text/plain": [
              "                     No_of_orders_placed  ...  Gift_card_amount\n",
              "No_of_orders_placed             1.000000  ...          0.564825\n",
              "Maximum_bill                    0.484439  ...          0.418342\n",
              "Minimum_bill                    0.271027  ...          0.247453\n",
              "No_of_Review_given              0.866173  ...          0.565380\n",
              "No_of_Comment_added             0.838044  ...          0.545856\n",
              "No_of_Images_added              0.797141  ...          0.521434\n",
              "No_of_issues_raised             0.702591  ...          0.463886\n",
              "Orders_returned                 0.605214  ...          0.331552\n",
              "Gift_card_amount                0.564825  ...          1.000000\n",
              "\n",
              "[9 rows x 9 columns]"
            ]
          },
          "metadata": {},
          "execution_count": 23
        }
      ]
    },
    {
      "cell_type": "code",
      "metadata": {
        "colab": {
          "base_uri": "https://localhost:8080/",
          "height": 543
        },
        "id": "yUdZIRWPr4mR",
        "outputId": "f9bedb55-7f57-4a5f-c3d7-0fb9c1138c12"
      },
      "source": [
        "# Figure size\n",
        "plt.figure(figsize=(16,8))\n",
        "\n",
        "# Heatmap\n",
        "sns.heatmap(cor, cmap=\"YlGnBu\", annot=True)\n",
        "plt.show()"
      ],
      "execution_count": null,
      "outputs": [
        {
          "output_type": "display_data",
          "data": {
            "image/png": "[encoded data removed]",
            "text/plain": [
              "<Figure size 1152x576 with 2 Axes>"
            ]
          },
          "metadata": {
            "needs_background": "light"
          }
        }
      ]
    },
    {
      "cell_type": "code",
      "metadata": {
        "id": "xxp-s9FTuKqB"
      },
      "source": [
        "##dropping customer id as it will not be helpful for model\n",
        "data_cleaned = data_cleaned.drop(['Customer_ID'], axis=1)"
      ],
      "execution_count": null,
      "outputs": []
    },
    {
      "cell_type": "code",
      "metadata": {
        "colab": {
          "base_uri": "https://localhost:8080/"
        },
        "id": "SNI88wARsBFW",
        "outputId": "b97d655d-d27c-46ca-88af-46fe714f58b4"
      },
      "source": [
        "data_cleaned.info()"
      ],
      "execution_count": null,
      "outputs": [
        {
          "output_type": "stream",
          "name": "stdout",
          "text": [
            "<class 'pandas.core.frame.DataFrame'>\n",
            "RangeIndex: 12318 entries, 0 to 12317\n",
            "Data columns (total 12 columns):\n",
            " #   Column                 Non-Null Count  Dtype  \n",
            "---  ------                 --------------  -----  \n",
            " 0   No_of_orders_placed    12318 non-null  int64  \n",
            " 1   Maximum_bill           12318 non-null  float64\n",
            " 2   Minimum_bill           12318 non-null  float64\n",
            " 3   No_of_Review_given     12318 non-null  float64\n",
            " 4   No_of_Comment_added    12318 non-null  int64  \n",
            " 5   No_of_Images_added     12318 non-null  float64\n",
            " 6   No_of_issues_raised    12318 non-null  int64  \n",
            " 7   Orders_returned        12318 non-null  int64  \n",
            " 8   Category_of_customers  12318 non-null  object \n",
            " 9   Gender                 12318 non-null  object \n",
            " 10  Premium                12318 non-null  object \n",
            " 11  Gift_card_amount       12318 non-null  int64  \n",
            "dtypes: float64(4), int64(5), object(3)\n",
            "memory usage: 1.1+ MB\n"
          ]
        }
      ]
    },
    {
      "cell_type": "code",
      "metadata": {
        "colab": {
          "base_uri": "https://localhost:8080/",
          "height": 206
        },
        "id": "hoJkcLDdueT7",
        "outputId": "9c4c2d8f-be03-411c-89f7-62401807b7be"
      },
      "source": [
        "data_cleaned_categorical = data_cleaned.select_dtypes(include=['object'])\n",
        "data_cleaned_categorical.head()"
      ],
      "execution_count": null,
      "outputs": [
        {
          "output_type": "execute_result",
          "data": {
            "text/html": [
              "<div>\n",
              "<style scoped>\n",
              "    .dataframe tbody tr th:only-of-type {\n",
              "        vertical-align: middle;\n",
              "    }\n",
              "\n",
              "    .dataframe tbody tr th {\n",
              "        vertical-align: top;\n",
              "    }\n",
              "\n",
              "    .dataframe thead th {\n",
              "        text-align: right;\n",
              "    }\n",
              "</style>\n",
              "<table border=\"1\" class=\"dataframe\">\n",
              "  <thead>\n",
              "    <tr style=\"text-align: right;\">\n",
              "      <th></th>\n",
              "      <th>Category_of_customers</th>\n",
              "      <th>Gender</th>\n",
              "      <th>Premium</th>\n",
              "    </tr>\n",
              "  </thead>\n",
              "  <tbody>\n",
              "    <tr>\n",
              "      <th>0</th>\n",
              "      <td>Active</td>\n",
              "      <td>Female</td>\n",
              "      <td>No</td>\n",
              "    </tr>\n",
              "    <tr>\n",
              "      <th>1</th>\n",
              "      <td>Active</td>\n",
              "      <td>Male</td>\n",
              "      <td>No</td>\n",
              "    </tr>\n",
              "    <tr>\n",
              "      <th>2</th>\n",
              "      <td>Passive</td>\n",
              "      <td>Female</td>\n",
              "      <td>No</td>\n",
              "    </tr>\n",
              "    <tr>\n",
              "      <th>3</th>\n",
              "      <td>Passive</td>\n",
              "      <td>Male</td>\n",
              "      <td>No</td>\n",
              "    </tr>\n",
              "    <tr>\n",
              "      <th>4</th>\n",
              "      <td>Passive</td>\n",
              "      <td>Female</td>\n",
              "      <td>Yes</td>\n",
              "    </tr>\n",
              "  </tbody>\n",
              "</table>\n",
              "</div>"
            ],
            "text/plain": [
              "  Category_of_customers  Gender Premium\n",
              "0                Active  Female      No\n",
              "1                Active    Male      No\n",
              "2               Passive  Female      No\n",
              "3               Passive    Male      No\n",
              "4               Passive  Female     Yes"
            ]
          },
          "metadata": {},
          "execution_count": 27
        }
      ]
    },
    {
      "cell_type": "code",
      "metadata": {
        "colab": {
          "base_uri": "https://localhost:8080/"
        },
        "id": "44aqW8bdzRFa",
        "outputId": "6d1fd1db-afe3-4d21-d59a-9c47a045c16e"
      },
      "source": [
        "data_cleaned_categorical_cols = data_cleaned_categorical.columns\n",
        "data_cleaned_categorical_cols"
      ],
      "execution_count": null,
      "outputs": [
        {
          "output_type": "execute_result",
          "data": {
            "text/plain": [
              "Index(['Category_of_customers', 'Gender', 'Premium'], dtype='object')"
            ]
          },
          "metadata": {},
          "execution_count": 28
        }
      ]
    },
    {
      "cell_type": "code",
      "metadata": {
        "colab": {
          "base_uri": "https://localhost:8080/",
          "height": 206
        },
        "id": "wEdjdI77vEbx",
        "outputId": "76b81fd7-da5f-4f73-cac5-bc76188544ae"
      },
      "source": [
        "data_cleaned_categorical_dummies= pd.get_dummies(data_cleaned_categorical, drop_first=True)\n",
        "data_cleaned_categorical_dummies.head()"
      ],
      "execution_count": null,
      "outputs": [
        {
          "output_type": "execute_result",
          "data": {
            "text/html": [
              "<div>\n",
              "<style scoped>\n",
              "    .dataframe tbody tr th:only-of-type {\n",
              "        vertical-align: middle;\n",
              "    }\n",
              "\n",
              "    .dataframe tbody tr th {\n",
              "        vertical-align: top;\n",
              "    }\n",
              "\n",
              "    .dataframe thead th {\n",
              "        text-align: right;\n",
              "    }\n",
              "</style>\n",
              "<table border=\"1\" class=\"dataframe\">\n",
              "  <thead>\n",
              "    <tr style=\"text-align: right;\">\n",
              "      <th></th>\n",
              "      <th>Category_of_customers_Inactive</th>\n",
              "      <th>Category_of_customers_Passive</th>\n",
              "      <th>Gender_Male</th>\n",
              "      <th>Premium_Yes</th>\n",
              "    </tr>\n",
              "  </thead>\n",
              "  <tbody>\n",
              "    <tr>\n",
              "      <th>0</th>\n",
              "      <td>0</td>\n",
              "      <td>0</td>\n",
              "      <td>0</td>\n",
              "      <td>0</td>\n",
              "    </tr>\n",
              "    <tr>\n",
              "      <th>1</th>\n",
              "      <td>0</td>\n",
              "      <td>0</td>\n",
              "      <td>1</td>\n",
              "      <td>0</td>\n",
              "    </tr>\n",
              "    <tr>\n",
              "      <th>2</th>\n",
              "      <td>0</td>\n",
              "      <td>1</td>\n",
              "      <td>0</td>\n",
              "      <td>0</td>\n",
              "    </tr>\n",
              "    <tr>\n",
              "      <th>3</th>\n",
              "      <td>0</td>\n",
              "      <td>1</td>\n",
              "      <td>1</td>\n",
              "      <td>0</td>\n",
              "    </tr>\n",
              "    <tr>\n",
              "      <th>4</th>\n",
              "      <td>0</td>\n",
              "      <td>1</td>\n",
              "      <td>0</td>\n",
              "      <td>1</td>\n",
              "    </tr>\n",
              "  </tbody>\n",
              "</table>\n",
              "</div>"
            ],
            "text/plain": [
              "   Category_of_customers_Inactive  ...  Premium_Yes\n",
              "0                               0  ...            0\n",
              "1                               0  ...            0\n",
              "2                               0  ...            0\n",
              "3                               0  ...            0\n",
              "4                               0  ...            1\n",
              "\n",
              "[5 rows x 4 columns]"
            ]
          },
          "metadata": {},
          "execution_count": 29
        }
      ]
    },
    {
      "cell_type": "code",
      "metadata": {
        "id": "YwVjYOjAvhot"
      },
      "source": [
        "# Concatenate dummy variables with data_cleaned\n",
        "data_cleaned = pd.concat([data_cleaned, data_cleaned_categorical_dummies], axis=1)"
      ],
      "execution_count": null,
      "outputs": []
    },
    {
      "cell_type": "code",
      "metadata": {
        "colab": {
          "base_uri": "https://localhost:8080/",
          "height": 226
        },
        "id": "2syZRxqhydwP",
        "outputId": "423f17ac-5e8b-44c9-cfe3-0fae3e8201b2"
      },
      "source": [
        "data_cleaned.head()"
      ],
      "execution_count": null,
      "outputs": [
        {
          "output_type": "execute_result",
          "data": {
            "text/html": [
              "<div>\n",
              "<style scoped>\n",
              "    .dataframe tbody tr th:only-of-type {\n",
              "        vertical-align: middle;\n",
              "    }\n",
              "\n",
              "    .dataframe tbody tr th {\n",
              "        vertical-align: top;\n",
              "    }\n",
              "\n",
              "    .dataframe thead th {\n",
              "        text-align: right;\n",
              "    }\n",
              "</style>\n",
              "<table border=\"1\" class=\"dataframe\">\n",
              "  <thead>\n",
              "    <tr style=\"text-align: right;\">\n",
              "      <th></th>\n",
              "      <th>No_of_orders_placed</th>\n",
              "      <th>Maximum_bill</th>\n",
              "      <th>Minimum_bill</th>\n",
              "      <th>No_of_Review_given</th>\n",
              "      <th>No_of_Comment_added</th>\n",
              "      <th>No_of_Images_added</th>\n",
              "      <th>No_of_issues_raised</th>\n",
              "      <th>Orders_returned</th>\n",
              "      <th>Category_of_customers</th>\n",
              "      <th>Gender</th>\n",
              "      <th>Premium</th>\n",
              "      <th>Gift_card_amount</th>\n",
              "      <th>Category_of_customers_Inactive</th>\n",
              "      <th>Category_of_customers_Passive</th>\n",
              "      <th>Gender_Male</th>\n",
              "      <th>Premium_Yes</th>\n",
              "    </tr>\n",
              "  </thead>\n",
              "  <tbody>\n",
              "    <tr>\n",
              "      <th>0</th>\n",
              "      <td>152</td>\n",
              "      <td>8.00</td>\n",
              "      <td>161.37</td>\n",
              "      <td>76.0</td>\n",
              "      <td>29</td>\n",
              "      <td>8.0</td>\n",
              "      <td>33</td>\n",
              "      <td>4</td>\n",
              "      <td>Active</td>\n",
              "      <td>Female</td>\n",
              "      <td>No</td>\n",
              "      <td>112</td>\n",
              "      <td>0</td>\n",
              "      <td>0</td>\n",
              "      <td>0</td>\n",
              "      <td>0</td>\n",
              "    </tr>\n",
              "    <tr>\n",
              "      <th>1</th>\n",
              "      <td>59</td>\n",
              "      <td>693.30</td>\n",
              "      <td>101.00</td>\n",
              "      <td>31.0</td>\n",
              "      <td>7</td>\n",
              "      <td>6.0</td>\n",
              "      <td>3</td>\n",
              "      <td>1</td>\n",
              "      <td>Active</td>\n",
              "      <td>Male</td>\n",
              "      <td>No</td>\n",
              "      <td>111</td>\n",
              "      <td>0</td>\n",
              "      <td>0</td>\n",
              "      <td>1</td>\n",
              "      <td>0</td>\n",
              "    </tr>\n",
              "    <tr>\n",
              "      <th>2</th>\n",
              "      <td>77</td>\n",
              "      <td>907.98</td>\n",
              "      <td>217.00</td>\n",
              "      <td>37.0</td>\n",
              "      <td>15</td>\n",
              "      <td>12.0</td>\n",
              "      <td>10</td>\n",
              "      <td>2</td>\n",
              "      <td>Passive</td>\n",
              "      <td>Female</td>\n",
              "      <td>No</td>\n",
              "      <td>37</td>\n",
              "      <td>0</td>\n",
              "      <td>1</td>\n",
              "      <td>0</td>\n",
              "      <td>0</td>\n",
              "    </tr>\n",
              "    <tr>\n",
              "      <th>3</th>\n",
              "      <td>337</td>\n",
              "      <td>2406.31</td>\n",
              "      <td>239.43</td>\n",
              "      <td>153.0</td>\n",
              "      <td>40</td>\n",
              "      <td>46.0</td>\n",
              "      <td>50</td>\n",
              "      <td>19</td>\n",
              "      <td>Passive</td>\n",
              "      <td>Male</td>\n",
              "      <td>No</td>\n",
              "      <td>27</td>\n",
              "      <td>0</td>\n",
              "      <td>1</td>\n",
              "      <td>1</td>\n",
              "      <td>0</td>\n",
              "    </tr>\n",
              "    <tr>\n",
              "      <th>4</th>\n",
              "      <td>269</td>\n",
              "      <td>777.26</td>\n",
              "      <td>182.65</td>\n",
              "      <td>93.0</td>\n",
              "      <td>64</td>\n",
              "      <td>16.0</td>\n",
              "      <td>38</td>\n",
              "      <td>6</td>\n",
              "      <td>Passive</td>\n",
              "      <td>Female</td>\n",
              "      <td>Yes</td>\n",
              "      <td>123</td>\n",
              "      <td>0</td>\n",
              "      <td>1</td>\n",
              "      <td>0</td>\n",
              "      <td>1</td>\n",
              "    </tr>\n",
              "  </tbody>\n",
              "</table>\n",
              "</div>"
            ],
            "text/plain": [
              "   No_of_orders_placed  Maximum_bill  ...  Gender_Male  Premium_Yes\n",
              "0                  152          8.00  ...            0            0\n",
              "1                   59        693.30  ...            1            0\n",
              "2                   77        907.98  ...            0            0\n",
              "3                  337       2406.31  ...            1            0\n",
              "4                  269        777.26  ...            0            1\n",
              "\n",
              "[5 rows x 16 columns]"
            ]
          },
          "metadata": {},
          "execution_count": 31
        }
      ]
    },
    {
      "cell_type": "code",
      "metadata": {
        "id": "xGCDXOWiyzIk"
      },
      "source": [
        "data_cleaned = data_cleaned.drop(data_cleaned[data_cleaned_categorical_cols], axis=1)"
      ],
      "execution_count": null,
      "outputs": []
    },
    {
      "cell_type": "code",
      "metadata": {
        "colab": {
          "base_uri": "https://localhost:8080/",
          "height": 226
        },
        "id": "4RkByClCzd-Y",
        "outputId": "d4ec408f-e437-4212-86cd-e9968c1471d4"
      },
      "source": [
        "data_cleaned.head()"
      ],
      "execution_count": null,
      "outputs": [
        {
          "output_type": "execute_result",
          "data": {
            "text/html": [
              "<div>\n",
              "<style scoped>\n",
              "    .dataframe tbody tr th:only-of-type {\n",
              "        vertical-align: middle;\n",
              "    }\n",
              "\n",
              "    .dataframe tbody tr th {\n",
              "        vertical-align: top;\n",
              "    }\n",
              "\n",
              "    .dataframe thead th {\n",
              "        text-align: right;\n",
              "    }\n",
              "</style>\n",
              "<table border=\"1\" class=\"dataframe\">\n",
              "  <thead>\n",
              "    <tr style=\"text-align: right;\">\n",
              "      <th></th>\n",
              "      <th>No_of_orders_placed</th>\n",
              "      <th>Maximum_bill</th>\n",
              "      <th>Minimum_bill</th>\n",
              "      <th>No_of_Review_given</th>\n",
              "      <th>No_of_Comment_added</th>\n",
              "      <th>No_of_Images_added</th>\n",
              "      <th>No_of_issues_raised</th>\n",
              "      <th>Orders_returned</th>\n",
              "      <th>Gift_card_amount</th>\n",
              "      <th>Category_of_customers_Inactive</th>\n",
              "      <th>Category_of_customers_Passive</th>\n",
              "      <th>Gender_Male</th>\n",
              "      <th>Premium_Yes</th>\n",
              "    </tr>\n",
              "  </thead>\n",
              "  <tbody>\n",
              "    <tr>\n",
              "      <th>0</th>\n",
              "      <td>152</td>\n",
              "      <td>8.00</td>\n",
              "      <td>161.37</td>\n",
              "      <td>76.0</td>\n",
              "      <td>29</td>\n",
              "      <td>8.0</td>\n",
              "      <td>33</td>\n",
              "      <td>4</td>\n",
              "      <td>112</td>\n",
              "      <td>0</td>\n",
              "      <td>0</td>\n",
              "      <td>0</td>\n",
              "      <td>0</td>\n",
              "    </tr>\n",
              "    <tr>\n",
              "      <th>1</th>\n",
              "      <td>59</td>\n",
              "      <td>693.30</td>\n",
              "      <td>101.00</td>\n",
              "      <td>31.0</td>\n",
              "      <td>7</td>\n",
              "      <td>6.0</td>\n",
              "      <td>3</td>\n",
              "      <td>1</td>\n",
              "      <td>111</td>\n",
              "      <td>0</td>\n",
              "      <td>0</td>\n",
              "      <td>1</td>\n",
              "      <td>0</td>\n",
              "    </tr>\n",
              "    <tr>\n",
              "      <th>2</th>\n",
              "      <td>77</td>\n",
              "      <td>907.98</td>\n",
              "      <td>217.00</td>\n",
              "      <td>37.0</td>\n",
              "      <td>15</td>\n",
              "      <td>12.0</td>\n",
              "      <td>10</td>\n",
              "      <td>2</td>\n",
              "      <td>37</td>\n",
              "      <td>0</td>\n",
              "      <td>1</td>\n",
              "      <td>0</td>\n",
              "      <td>0</td>\n",
              "    </tr>\n",
              "    <tr>\n",
              "      <th>3</th>\n",
              "      <td>337</td>\n",
              "      <td>2406.31</td>\n",
              "      <td>239.43</td>\n",
              "      <td>153.0</td>\n",
              "      <td>40</td>\n",
              "      <td>46.0</td>\n",
              "      <td>50</td>\n",
              "      <td>19</td>\n",
              "      <td>27</td>\n",
              "      <td>0</td>\n",
              "      <td>1</td>\n",
              "      <td>1</td>\n",
              "      <td>0</td>\n",
              "    </tr>\n",
              "    <tr>\n",
              "      <th>4</th>\n",
              "      <td>269</td>\n",
              "      <td>777.26</td>\n",
              "      <td>182.65</td>\n",
              "      <td>93.0</td>\n",
              "      <td>64</td>\n",
              "      <td>16.0</td>\n",
              "      <td>38</td>\n",
              "      <td>6</td>\n",
              "      <td>123</td>\n",
              "      <td>0</td>\n",
              "      <td>1</td>\n",
              "      <td>0</td>\n",
              "      <td>1</td>\n",
              "    </tr>\n",
              "  </tbody>\n",
              "</table>\n",
              "</div>"
            ],
            "text/plain": [
              "   No_of_orders_placed  Maximum_bill  ...  Gender_Male  Premium_Yes\n",
              "0                  152          8.00  ...            0            0\n",
              "1                   59        693.30  ...            1            0\n",
              "2                   77        907.98  ...            0            0\n",
              "3                  337       2406.31  ...            1            0\n",
              "4                  269        777.26  ...            0            1\n",
              "\n",
              "[5 rows x 13 columns]"
            ]
          },
          "metadata": {},
          "execution_count": 33
        }
      ]
    },
    {
      "cell_type": "code",
      "metadata": {
        "colab": {
          "base_uri": "https://localhost:8080/"
        },
        "id": "61KG9GhDzhXS",
        "outputId": "d576a655-583b-4afe-a237-7a615c5fae6d"
      },
      "source": [
        "data_cleaned.columns"
      ],
      "execution_count": null,
      "outputs": [
        {
          "output_type": "execute_result",
          "data": {
            "text/plain": [
              "Index(['No_of_orders_placed', 'Maximum_bill', 'Minimum_bill',\n",
              "       'No_of_Review_given', 'No_of_Comment_added', 'No_of_Images_added',\n",
              "       'No_of_issues_raised', 'Orders_returned', 'Gift_card_amount',\n",
              "       'Category_of_customers_Inactive', 'Category_of_customers_Passive',\n",
              "       'Gender_Male', 'Premium_Yes'],\n",
              "      dtype='object')"
            ]
          },
          "metadata": {},
          "execution_count": 34
        }
      ]
    },
    {
      "cell_type": "code",
      "metadata": {
        "id": "kEvboIXs1kFn"
      },
      "source": [
        "# Create a list of the variables that you need to scale\n",
        "varlist= ['No_of_orders_placed', 'Maximum_bill', 'Minimum_bill',\n",
        "       'No_of_Review_given', 'No_of_Comment_added', 'No_of_Images_added',\n",
        "       'No_of_issues_raised', 'Orders_returned', 'Gift_card_amount',\n",
        "       'Category_of_customers_Inactive', 'Category_of_customers_Passive',\n",
        "       'Gender_Male', 'Premium_Yes']"
      ],
      "execution_count": null,
      "outputs": []
    },
    {
      "cell_type": "code",
      "metadata": {
        "id": "91rC3VzhiRPR"
      },
      "source": [
        "# Import the StandardScaler()\n",
        "from sklearn.preprocessing import StandardScaler\n",
        "\n",
        "# Create a scaling object\n",
        "scaler = StandardScaler()\n",
        "\n",
        "# Scale these variables using 'fit_transform'\n",
        "data_cleaned[varlist] = scaler.fit_transform(data_cleaned[varlist])"
      ],
      "execution_count": null,
      "outputs": []
    },
    {
      "cell_type": "code",
      "metadata": {
        "colab": {
          "base_uri": "https://localhost:8080/",
          "height": 226
        },
        "id": "tmAD_n6Oiybj",
        "outputId": "896136cb-df51-413b-e494-6574d1e2886c"
      },
      "source": [
        "data_cleaned.head()"
      ],
      "execution_count": null,
      "outputs": [
        {
          "output_type": "execute_result",
          "data": {
            "text/html": [
              "<div>\n",
              "<style scoped>\n",
              "    .dataframe tbody tr th:only-of-type {\n",
              "        vertical-align: middle;\n",
              "    }\n",
              "\n",
              "    .dataframe tbody tr th {\n",
              "        vertical-align: top;\n",
              "    }\n",
              "\n",
              "    .dataframe thead th {\n",
              "        text-align: right;\n",
              "    }\n",
              "</style>\n",
              "<table border=\"1\" class=\"dataframe\">\n",
              "  <thead>\n",
              "    <tr style=\"text-align: right;\">\n",
              "      <th></th>\n",
              "      <th>No_of_orders_placed</th>\n",
              "      <th>Maximum_bill</th>\n",
              "      <th>Minimum_bill</th>\n",
              "      <th>No_of_Review_given</th>\n",
              "      <th>No_of_Comment_added</th>\n",
              "      <th>No_of_Images_added</th>\n",
              "      <th>No_of_issues_raised</th>\n",
              "      <th>Orders_returned</th>\n",
              "      <th>Gift_card_amount</th>\n",
              "      <th>Category_of_customers_Inactive</th>\n",
              "      <th>Category_of_customers_Passive</th>\n",
              "      <th>Gender_Male</th>\n",
              "      <th>Premium_Yes</th>\n",
              "    </tr>\n",
              "  </thead>\n",
              "  <tbody>\n",
              "    <tr>\n",
              "      <th>0</th>\n",
              "      <td>0.268437</td>\n",
              "      <td>-1.296168</td>\n",
              "      <td>-0.394662</td>\n",
              "      <td>0.541611</td>\n",
              "      <td>0.304162</td>\n",
              "      <td>-0.404262</td>\n",
              "      <td>0.894959</td>\n",
              "      <td>0.136322</td>\n",
              "      <td>0.891538</td>\n",
              "      <td>-0.360107</td>\n",
              "      <td>-0.785198</td>\n",
              "      <td>-1.265930</td>\n",
              "      <td>-0.554406</td>\n",
              "    </tr>\n",
              "    <tr>\n",
              "      <th>1</th>\n",
              "      <td>-0.634306</td>\n",
              "      <td>-0.262378</td>\n",
              "      <td>-1.281247</td>\n",
              "      <td>-0.467109</td>\n",
              "      <td>-0.789408</td>\n",
              "      <td>-0.568062</td>\n",
              "      <td>-0.813542</td>\n",
              "      <td>-0.555471</td>\n",
              "      <td>0.864220</td>\n",
              "      <td>-0.360107</td>\n",
              "      <td>-0.785198</td>\n",
              "      <td>0.789933</td>\n",
              "      <td>-0.554406</td>\n",
              "    </tr>\n",
              "    <tr>\n",
              "      <th>2</th>\n",
              "      <td>-0.459581</td>\n",
              "      <td>0.061471</td>\n",
              "      <td>0.422312</td>\n",
              "      <td>-0.332613</td>\n",
              "      <td>-0.391746</td>\n",
              "      <td>-0.076661</td>\n",
              "      <td>-0.414892</td>\n",
              "      <td>-0.324873</td>\n",
              "      <td>-1.157331</td>\n",
              "      <td>-0.360107</td>\n",
              "      <td>1.273565</td>\n",
              "      <td>-1.265930</td>\n",
              "      <td>-0.554406</td>\n",
              "    </tr>\n",
              "    <tr>\n",
              "      <th>3</th>\n",
              "      <td>2.064216</td>\n",
              "      <td>2.321734</td>\n",
              "      <td>0.751716</td>\n",
              "      <td>2.267643</td>\n",
              "      <td>0.850948</td>\n",
              "      <td>2.707947</td>\n",
              "      <td>1.863110</td>\n",
              "      <td>3.595286</td>\n",
              "      <td>-1.430513</td>\n",
              "      <td>-0.360107</td>\n",
              "      <td>1.273565</td>\n",
              "      <td>0.789933</td>\n",
              "      <td>-0.554406</td>\n",
              "    </tr>\n",
              "    <tr>\n",
              "      <th>4</th>\n",
              "      <td>1.404146</td>\n",
              "      <td>-0.135723</td>\n",
              "      <td>-0.082147</td>\n",
              "      <td>0.922683</td>\n",
              "      <td>2.043935</td>\n",
              "      <td>0.250940</td>\n",
              "      <td>1.179709</td>\n",
              "      <td>0.597517</td>\n",
              "      <td>1.192039</td>\n",
              "      <td>-0.360107</td>\n",
              "      <td>1.273565</td>\n",
              "      <td>-1.265930</td>\n",
              "      <td>1.803733</td>\n",
              "    </tr>\n",
              "  </tbody>\n",
              "</table>\n",
              "</div>"
            ],
            "text/plain": [
              "   No_of_orders_placed  Maximum_bill  ...  Gender_Male  Premium_Yes\n",
              "0             0.268437     -1.296168  ...    -1.265930    -0.554406\n",
              "1            -0.634306     -0.262378  ...     0.789933    -0.554406\n",
              "2            -0.459581      0.061471  ...    -1.265930    -0.554406\n",
              "3             2.064216      2.321734  ...     0.789933    -0.554406\n",
              "4             1.404146     -0.135723  ...    -1.265930     1.803733\n",
              "\n",
              "[5 rows x 13 columns]"
            ]
          },
          "metadata": {},
          "execution_count": 37
        }
      ]
    },
    {
      "cell_type": "code",
      "metadata": {
        "id": "9Jmcc_nTi4Rv"
      },
      "source": [
        "y_train = data_cleaned.pop('Gift_card_amount')\n",
        "x_train = data_cleaned"
      ],
      "execution_count": null,
      "outputs": []
    },
    {
      "cell_type": "code",
      "metadata": {
        "id": "0zfwrY0VjI1Z"
      },
      "source": [
        "##Building the first model with all the features\n",
        "from sklearn import linear_model\n",
        "from sklearn.linear_model import LinearRegression"
      ],
      "execution_count": null,
      "outputs": []
    },
    {
      "cell_type": "code",
      "metadata": {
        "colab": {
          "base_uri": "https://localhost:8080/"
        },
        "id": "4inCCUu1jUHh",
        "outputId": "abe310aa-4d58-4a9a-87f3-9cec9b0eaedf"
      },
      "source": [
        "# Instantiate\n",
        "lm = LinearRegression()\n",
        "\n",
        "# Fit a line\n",
        "lm.fit(x_train, y_train)"
      ],
      "execution_count": null,
      "outputs": [
        {
          "output_type": "execute_result",
          "data": {
            "text/plain": [
              "LinearRegression()"
            ]
          },
          "metadata": {},
          "execution_count": 40
        }
      ]
    },
    {
      "cell_type": "code",
      "metadata": {
        "colab": {
          "base_uri": "https://localhost:8080/"
        },
        "id": "bY1uqL-DkAnO",
        "outputId": "8c5e9f29-528f-4607-8433-460d97f86645"
      },
      "source": [
        "# Print the coefficients and intercept\n",
        "print(lm.coef_)\n",
        "print(lm.intercept_)"
      ],
      "execution_count": null,
      "outputs": [
        {
          "output_type": "stream",
          "name": "stdout",
          "text": [
            "[ 0.15476756  0.15023163  0.07159875  0.1774329   0.10218605  0.07913927\n",
            "  0.05032715 -0.08173936 -0.22435693 -0.21535518  0.00346942  0.22827277]\n",
            "-6.153125172428606e-17\n"
          ]
        }
      ]
    },
    {
      "cell_type": "code",
      "metadata": {
        "id": "94ojD1bmkCOu",
        "colab": {
          "base_uri": "https://localhost:8080/"
        },
        "outputId": "b6eafad7-667c-4aab-faf5-d9a44ef22542"
      },
      "source": [
        "##Model Building Using RFE\n",
        "# Import RFE\n",
        "from sklearn.feature_selection import RFE\n",
        "\n",
        "# RFE with 10 features\n",
        "lm_1 = LinearRegression()\n",
        "rfe1 = RFE(lm_1, n_features_to_select=10)\n",
        "\n",
        "# Fit with 10 features\n",
        "rfe1.fit(x_train, y_train)"
      ],
      "execution_count": null,
      "outputs": [
        {
          "output_type": "execute_result",
          "data": {
            "text/plain": [
              "RFE(estimator=LinearRegression(), n_features_to_select=10)"
            ]
          },
          "metadata": {},
          "execution_count": 51
        }
      ]
    },
    {
      "cell_type": "code",
      "metadata": {
        "colab": {
          "base_uri": "https://localhost:8080/"
        },
        "id": "k9f0-d2d-nFg",
        "outputId": "2e42299a-8816-4b3b-a3c6-afa758468105"
      },
      "source": [
        "# Print the boolean results\n",
        "print(rfe1.support_)           \n",
        "print(rfe1.ranking_)  "
      ],
      "execution_count": null,
      "outputs": [
        {
          "output_type": "stream",
          "name": "stdout",
          "text": [
            "[ True  True  True  True  True  True False  True  True  True False  True]\n",
            "[1 1 1 1 1 1 2 1 1 1 3 1]\n"
          ]
        }
      ]
    },
    {
      "cell_type": "code",
      "metadata": {
        "colab": {
          "base_uri": "https://localhost:8080/"
        },
        "id": "KDa8DfRiSzYa",
        "outputId": "0aae9a9e-f776-46cb-dc1d-083a386972ef"
      },
      "source": [
        "!pip install statsmodels"
      ],
      "execution_count": null,
      "outputs": [
        {
          "output_type": "stream",
          "name": "stdout",
          "text": [
            "Requirement already satisfied: statsmodels in /usr/local/lib/python3.7/dist-packages (0.10.2)\n",
            "Requirement already satisfied: scipy>=0.18 in /usr/local/lib/python3.7/dist-packages (from statsmodels) (1.4.1)\n",
            "Requirement already satisfied: patsy>=0.4.0 in /usr/local/lib/python3.7/dist-packages (from statsmodels) (0.5.2)\n",
            "Requirement already satisfied: pandas>=0.19 in /usr/local/lib/python3.7/dist-packages (from statsmodels) (1.1.5)\n",
            "Requirement already satisfied: numpy>=1.11 in /usr/local/lib/python3.7/dist-packages (from statsmodels) (1.19.5)\n",
            "Requirement already satisfied: python-dateutil>=2.7.3 in /usr/local/lib/python3.7/dist-packages (from pandas>=0.19->statsmodels) (2.8.2)\n",
            "Requirement already satisfied: pytz>=2017.2 in /usr/local/lib/python3.7/dist-packages (from pandas>=0.19->statsmodels) (2018.9)\n",
            "Requirement already satisfied: six in /usr/local/lib/python3.7/dist-packages (from patsy>=0.4.0->statsmodels) (1.15.0)\n"
          ]
        }
      ]
    },
    {
      "cell_type": "code",
      "metadata": {
        "colab": {
          "base_uri": "https://localhost:8080/"
        },
        "id": "e7OzCHAG_Eas",
        "outputId": "64fd2a05-c0a2-48d3-96ee-2cd7f37f9263"
      },
      "source": [
        "##Model building and evaluation.\n",
        "import statsmodels.api as sm\n",
        "\n",
        "# Subset the features selected by rfe1\n",
        "rfe_cols = x_train.columns[rfe1.support_]\n",
        "\n",
        "#subset the training model for 10 features\n",
        "X_train_rfe1 = x_train[rfe_cols]"
      ],
      "execution_count": null,
      "outputs": [
        {
          "output_type": "stream",
          "name": "stderr",
          "text": [
            "/usr/local/lib/python3.7/dist-packages/statsmodels/tools/_testing.py:19: FutureWarning: pandas.util.testing is deprecated. Use the functions in the public API at pandas.testing instead.\n",
            "  import pandas.util.testing as tm\n"
          ]
        }
      ]
    },
    {
      "cell_type": "code",
      "metadata": {
        "colab": {
          "base_uri": "https://localhost:8080/"
        },
        "id": "xQ5_xVEvArFY",
        "outputId": "dffc552f-201c-4e28-ecf7-2d365ab5fab6"
      },
      "source": [
        "# Add a constant to the model\n",
        "X_train_rfe1 = sm.add_constant(X_train_rfe1)\n",
        "\n",
        "lm_2 = sm.OLS(y_train,X_train_rfe1).fit()\n",
        "print(lm_2.summary())"
      ],
      "execution_count": null,
      "outputs": [
        {
          "output_type": "stream",
          "name": "stdout",
          "text": [
            "                            OLS Regression Results                            \n",
            "==============================================================================\n",
            "Dep. Variable:       Gift_card_amount   R-squared:                       0.500\n",
            "Model:                            OLS   Adj. R-squared:                  0.500\n",
            "Method:                 Least Squares   F-statistic:                     1231.\n",
            "Date:                Tue, 30 Nov 2021   Prob (F-statistic):               0.00\n",
            "Time:                        10:11:24   Log-Likelihood:                -13208.\n",
            "No. Observations:               12318   AIC:                         2.644e+04\n",
            "Df Residuals:                   12307   BIC:                         2.652e+04\n",
            "Df Model:                          10                                         \n",
            "Covariance Type:            nonrobust                                         \n",
            "==================================================================================================\n",
            "                                     coef    std err          t      P>|t|      [0.025      0.975]\n",
            "--------------------------------------------------------------------------------------------------\n",
            "const                          -4.983e-17      0.006  -7.82e-15      1.000      -0.012       0.012\n",
            "No_of_orders_placed                0.1661      0.014     11.456      0.000       0.138       0.195\n",
            "Maximum_bill                       0.1511      0.007     20.405      0.000       0.137       0.166\n",
            "Minimum_bill                       0.0721      0.007     10.812      0.000       0.059       0.085\n",
            "No_of_Review_given                 0.1898      0.015     12.661      0.000       0.160       0.219\n",
            "No_of_Comment_added                0.1114      0.013      8.340      0.000       0.085       0.138\n",
            "No_of_Images_added                 0.0845      0.012      7.237      0.000       0.062       0.107\n",
            "Orders_returned                   -0.0806      0.008     -9.704      0.000      -0.097      -0.064\n",
            "Category_of_customers_Inactive    -0.2246      0.007    -33.377      0.000      -0.238      -0.211\n",
            "Category_of_customers_Passive     -0.2153      0.007    -32.382      0.000      -0.228      -0.202\n",
            "Premium_Yes                        0.2284      0.006     35.823      0.000       0.216       0.241\n",
            "==============================================================================\n",
            "Omnibus:                      105.426   Durbin-Watson:                   1.972\n",
            "Prob(Omnibus):                  0.000   Jarque-Bera (JB):              107.973\n",
            "Skew:                           0.228   Prob(JB):                     3.58e-24\n",
            "Kurtosis:                       2.952   Cond. No.                         5.75\n",
            "==============================================================================\n",
            "\n",
            "Warnings:\n",
            "[1] Standard Errors assume that the covariance matrix of the errors is correctly specified.\n"
          ]
        }
      ]
    },
    {
      "cell_type": "code",
      "metadata": {
        "id": "724XsZlOU_wL"
      },
      "source": [
        "##model has R squared as 50% and lets check the VIF\n",
        "\n",
        "from statsmodels.stats.outliers_influence import variance_inflation_factor"
      ],
      "execution_count": null,
      "outputs": []
    },
    {
      "cell_type": "code",
      "metadata": {
        "colab": {
          "base_uri": "https://localhost:8080/",
          "height": 394
        },
        "id": "UwkKf8PyWT0s",
        "outputId": "47e64f6b-7863-4627-c899-fe489fe8d154"
      },
      "source": [
        "##Create a dataframe that will contain the names of all the feature variables and their respective VIFs\n",
        "vif = pd.DataFrame()\n",
        "vif['Features'] = X_train_rfe1.columns\n",
        "vif['VIF'] = [variance_inflation_factor(X_train_rfe1.values, i) for i in range(X_train_rfe1.shape[1])]\n",
        "vif['VIF'] = round(vif['VIF'], 2)\n",
        "vif = vif.sort_values(by = \"VIF\", ascending = False)\n",
        "vif"
      ],
      "execution_count": null,
      "outputs": [
        {
          "output_type": "execute_result",
          "data": {
            "text/html": [
              "<div>\n",
              "<style scoped>\n",
              "    .dataframe tbody tr th:only-of-type {\n",
              "        vertical-align: middle;\n",
              "    }\n",
              "\n",
              "    .dataframe tbody tr th {\n",
              "        vertical-align: top;\n",
              "    }\n",
              "\n",
              "    .dataframe thead th {\n",
              "        text-align: right;\n",
              "    }\n",
              "</style>\n",
              "<table border=\"1\" class=\"dataframe\">\n",
              "  <thead>\n",
              "    <tr style=\"text-align: right;\">\n",
              "      <th></th>\n",
              "      <th>Features</th>\n",
              "      <th>VIF</th>\n",
              "    </tr>\n",
              "  </thead>\n",
              "  <tbody>\n",
              "    <tr>\n",
              "      <th>4</th>\n",
              "      <td>No_of_Review_given</td>\n",
              "      <td>5.53</td>\n",
              "    </tr>\n",
              "    <tr>\n",
              "      <th>1</th>\n",
              "      <td>No_of_orders_placed</td>\n",
              "      <td>5.18</td>\n",
              "    </tr>\n",
              "    <tr>\n",
              "      <th>5</th>\n",
              "      <td>No_of_Comment_added</td>\n",
              "      <td>4.40</td>\n",
              "    </tr>\n",
              "    <tr>\n",
              "      <th>6</th>\n",
              "      <td>No_of_Images_added</td>\n",
              "      <td>3.36</td>\n",
              "    </tr>\n",
              "    <tr>\n",
              "      <th>7</th>\n",
              "      <td>Orders_returned</td>\n",
              "      <td>1.70</td>\n",
              "    </tr>\n",
              "    <tr>\n",
              "      <th>2</th>\n",
              "      <td>Maximum_bill</td>\n",
              "      <td>1.35</td>\n",
              "    </tr>\n",
              "    <tr>\n",
              "      <th>8</th>\n",
              "      <td>Category_of_customers_Inactive</td>\n",
              "      <td>1.12</td>\n",
              "    </tr>\n",
              "    <tr>\n",
              "      <th>3</th>\n",
              "      <td>Minimum_bill</td>\n",
              "      <td>1.09</td>\n",
              "    </tr>\n",
              "    <tr>\n",
              "      <th>9</th>\n",
              "      <td>Category_of_customers_Passive</td>\n",
              "      <td>1.09</td>\n",
              "    </tr>\n",
              "    <tr>\n",
              "      <th>0</th>\n",
              "      <td>const</td>\n",
              "      <td>1.00</td>\n",
              "    </tr>\n",
              "    <tr>\n",
              "      <th>10</th>\n",
              "      <td>Premium_Yes</td>\n",
              "      <td>1.00</td>\n",
              "    </tr>\n",
              "  </tbody>\n",
              "</table>\n",
              "</div>"
            ],
            "text/plain": [
              "                          Features   VIF\n",
              "4               No_of_Review_given  5.53\n",
              "1              No_of_orders_placed  5.18\n",
              "5              No_of_Comment_added  4.40\n",
              "6               No_of_Images_added  3.36\n",
              "7                  Orders_returned  1.70\n",
              "2                     Maximum_bill  1.35\n",
              "8   Category_of_customers_Inactive  1.12\n",
              "3                     Minimum_bill  1.09\n",
              "9    Category_of_customers_Passive  1.09\n",
              "0                            const  1.00\n",
              "10                     Premium_Yes  1.00"
            ]
          },
          "metadata": {},
          "execution_count": 60
        }
      ]
    },
    {
      "cell_type": "code",
      "metadata": {
        "id": "6pIe2iPmXrTX"
      },
      "source": [
        "## the variables seems significant but we have some high VIFs. Let's drop them and see if the Adjusted R-squared score is getting affected."
      ],
      "execution_count": null,
      "outputs": []
    },
    {
      "cell_type": "code",
      "metadata": {
        "colab": {
          "base_uri": "https://localhost:8080/"
        },
        "id": "k9RIY0uhcCpH",
        "outputId": "2e4e20c2-d39d-4cfa-9a03-cc8b32670790"
      },
      "source": [
        "X_train_rfe1.drop('No_of_Review_given', axis=1, inplace = True)\n",
        "\n",
        "X_train_rfe1 = sm.add_constant(X_train_rfe1)\n",
        "\n",
        "# Fitting the model with 9 variables\n",
        "lm_3 = sm.OLS(y_train, X_train_rfe1).fit()   \n",
        "print(lm_3.summary())"
      ],
      "execution_count": null,
      "outputs": [
        {
          "output_type": "stream",
          "name": "stdout",
          "text": [
            "                            OLS Regression Results                            \n",
            "==============================================================================\n",
            "Dep. Variable:       Gift_card_amount   R-squared:                       0.494\n",
            "Model:                            OLS   Adj. R-squared:                  0.493\n",
            "Method:                 Least Squares   F-statistic:                     1333.\n",
            "Date:                Tue, 30 Nov 2021   Prob (F-statistic):               0.00\n",
            "Time:                        11:05:53   Log-Likelihood:                -13288.\n",
            "No. Observations:               12318   AIC:                         2.660e+04\n",
            "Df Residuals:                   12308   BIC:                         2.667e+04\n",
            "Df Model:                           9                                         \n",
            "Covariance Type:            nonrobust                                         \n",
            "==================================================================================================\n",
            "                                     coef    std err          t      P>|t|      [0.025      0.975]\n",
            "--------------------------------------------------------------------------------------------------\n",
            "const                          -4.983e-17      0.006  -7.77e-15      1.000      -0.013       0.013\n",
            "No_of_orders_placed                0.2394      0.013     17.891      0.000       0.213       0.266\n",
            "Maximum_bill                       0.1585      0.007     21.329      0.000       0.144       0.173\n",
            "Minimum_bill                       0.0746      0.007     11.127      0.000       0.061       0.088\n",
            "No_of_Comment_added                0.1679      0.013     13.241      0.000       0.143       0.193\n",
            "No_of_Images_added                 0.1234      0.011     10.884      0.000       0.101       0.146\n",
            "Orders_returned                   -0.0667      0.008     -8.054      0.000      -0.083      -0.050\n",
            "Category_of_customers_Inactive    -0.2258      0.007    -33.339      0.000      -0.239      -0.213\n",
            "Category_of_customers_Passive     -0.2153      0.007    -32.183      0.000      -0.228      -0.202\n",
            "Premium_Yes                        0.2271      0.006     35.393      0.000       0.215       0.240\n",
            "==============================================================================\n",
            "Omnibus:                       98.610   Durbin-Watson:                   1.969\n",
            "Prob(Omnibus):                  0.000   Jarque-Bera (JB):              100.873\n",
            "Skew:                           0.221   Prob(JB):                     1.25e-22\n",
            "Kurtosis:                       2.965   Cond. No.                         4.73\n",
            "==============================================================================\n",
            "\n",
            "Warnings:\n",
            "[1] Standard Errors assume that the covariance matrix of the errors is correctly specified.\n"
          ]
        }
      ]
    },
    {
      "cell_type": "code",
      "metadata": {
        "colab": {
          "base_uri": "https://localhost:8080/",
          "height": 363
        },
        "id": "cynvqMGChdL4",
        "outputId": "8375ec2e-2042-4ff0-dd05-34e28abebf03"
      },
      "source": [
        "##Create a dataframe that will contain the names of all the feature variables and their respective VIFs\n",
        "vif = pd.DataFrame()\n",
        "vif['Features'] = X_train_rfe1.columns\n",
        "vif['VIF'] = [variance_inflation_factor(X_train_rfe1.values, i) for i in range(X_train_rfe1.shape[1])]\n",
        "vif['VIF'] = round(vif['VIF'], 2)\n",
        "vif = vif.sort_values(by = \"VIF\", ascending = False)\n",
        "vif"
      ],
      "execution_count": null,
      "outputs": [
        {
          "output_type": "execute_result",
          "data": {
            "text/html": [
              "<div>\n",
              "<style scoped>\n",
              "    .dataframe tbody tr th:only-of-type {\n",
              "        vertical-align: middle;\n",
              "    }\n",
              "\n",
              "    .dataframe tbody tr th {\n",
              "        vertical-align: top;\n",
              "    }\n",
              "\n",
              "    .dataframe thead th {\n",
              "        text-align: right;\n",
              "    }\n",
              "</style>\n",
              "<table border=\"1\" class=\"dataframe\">\n",
              "  <thead>\n",
              "    <tr style=\"text-align: right;\">\n",
              "      <th></th>\n",
              "      <th>Features</th>\n",
              "      <th>VIF</th>\n",
              "    </tr>\n",
              "  </thead>\n",
              "  <tbody>\n",
              "    <tr>\n",
              "      <th>1</th>\n",
              "      <td>No_of_orders_placed</td>\n",
              "      <td>4.35</td>\n",
              "    </tr>\n",
              "    <tr>\n",
              "      <th>4</th>\n",
              "      <td>No_of_Comment_added</td>\n",
              "      <td>3.91</td>\n",
              "    </tr>\n",
              "    <tr>\n",
              "      <th>5</th>\n",
              "      <td>No_of_Images_added</td>\n",
              "      <td>3.13</td>\n",
              "    </tr>\n",
              "    <tr>\n",
              "      <th>6</th>\n",
              "      <td>Orders_returned</td>\n",
              "      <td>1.67</td>\n",
              "    </tr>\n",
              "    <tr>\n",
              "      <th>2</th>\n",
              "      <td>Maximum_bill</td>\n",
              "      <td>1.34</td>\n",
              "    </tr>\n",
              "    <tr>\n",
              "      <th>7</th>\n",
              "      <td>Category_of_customers_Inactive</td>\n",
              "      <td>1.11</td>\n",
              "    </tr>\n",
              "    <tr>\n",
              "      <th>3</th>\n",
              "      <td>Minimum_bill</td>\n",
              "      <td>1.09</td>\n",
              "    </tr>\n",
              "    <tr>\n",
              "      <th>8</th>\n",
              "      <td>Category_of_customers_Passive</td>\n",
              "      <td>1.09</td>\n",
              "    </tr>\n",
              "    <tr>\n",
              "      <th>0</th>\n",
              "      <td>const</td>\n",
              "      <td>1.00</td>\n",
              "    </tr>\n",
              "    <tr>\n",
              "      <th>9</th>\n",
              "      <td>Premium_Yes</td>\n",
              "      <td>1.00</td>\n",
              "    </tr>\n",
              "  </tbody>\n",
              "</table>\n",
              "</div>"
            ],
            "text/plain": [
              "                         Features   VIF\n",
              "1             No_of_orders_placed  4.35\n",
              "4             No_of_Comment_added  3.91\n",
              "5              No_of_Images_added  3.13\n",
              "6                 Orders_returned  1.67\n",
              "2                    Maximum_bill  1.34\n",
              "7  Category_of_customers_Inactive  1.11\n",
              "3                    Minimum_bill  1.09\n",
              "8   Category_of_customers_Passive  1.09\n",
              "0                           const  1.00\n",
              "9                     Premium_Yes  1.00"
            ]
          },
          "metadata": {},
          "execution_count": 63
        }
      ]
    },
    {
      "cell_type": "code",
      "metadata": {
        "id": "iPlt6kFHiFkh"
      },
      "source": [
        "## the variables seems significant but we have some high VIFs. Let's drop them and see if the Adjusted R-squared score is getting affected."
      ],
      "execution_count": null,
      "outputs": []
    },
    {
      "cell_type": "code",
      "metadata": {
        "colab": {
          "base_uri": "https://localhost:8080/"
        },
        "id": "JikqnedqinA5",
        "outputId": "ba8c20b9-8f0c-432d-ffc2-c10d2dad0c84"
      },
      "source": [
        "X_train_rfe1.drop('No_of_orders_placed', axis=1, inplace = True)\n",
        "\n",
        "X_train_rfe1 = sm.add_constant(X_train_rfe1)\n",
        "\n",
        "# Fitting the model with 8 variables\n",
        "lm_4 = sm.OLS(y_train, X_train_rfe1).fit()   \n",
        "print(lm_4.summary())"
      ],
      "execution_count": null,
      "outputs": [
        {
          "output_type": "stream",
          "name": "stdout",
          "text": [
            "                            OLS Regression Results                            \n",
            "==============================================================================\n",
            "Dep. Variable:       Gift_card_amount   R-squared:                       0.480\n",
            "Model:                            OLS   Adj. R-squared:                  0.480\n",
            "Method:                 Least Squares   F-statistic:                     1423.\n",
            "Date:                Tue, 30 Nov 2021   Prob (F-statistic):               0.00\n",
            "Time:                        11:12:37   Log-Likelihood:                -13446.\n",
            "No. Observations:               12318   AIC:                         2.691e+04\n",
            "Df Residuals:                   12309   BIC:                         2.698e+04\n",
            "Df Model:                           8                                         \n",
            "Covariance Type:            nonrobust                                         \n",
            "==================================================================================================\n",
            "                                     coef    std err          t      P>|t|      [0.025      0.975]\n",
            "--------------------------------------------------------------------------------------------------\n",
            "const                          -4.983e-17      0.006  -7.67e-15      1.000      -0.013       0.013\n",
            "Maximum_bill                       0.1771      0.007     23.774      0.000       0.163       0.192\n",
            "Minimum_bill                       0.0810      0.007     11.939      0.000       0.068       0.094\n",
            "No_of_Comment_added                0.2824      0.011     25.476      0.000       0.261       0.304\n",
            "No_of_Images_added                 0.2008      0.011     18.901      0.000       0.180       0.222\n",
            "Orders_returned                   -0.0412      0.008     -4.989      0.000      -0.057      -0.025\n",
            "Category_of_customers_Inactive    -0.2298      0.007    -33.518      0.000      -0.243      -0.216\n",
            "Category_of_customers_Passive     -0.2164      0.007    -31.926      0.000      -0.230      -0.203\n",
            "Premium_Yes                        0.2280      0.006     35.086      0.000       0.215       0.241\n",
            "==============================================================================\n",
            "Omnibus:                      119.253   Durbin-Watson:                   1.973\n",
            "Prob(Omnibus):                  0.000   Jarque-Bera (JB):              122.584\n",
            "Skew:                           0.244   Prob(JB):                     2.41e-27\n",
            "Kurtosis:                       3.006   Cond. No.                         3.54\n",
            "==============================================================================\n",
            "\n",
            "Warnings:\n",
            "[1] Standard Errors assume that the covariance matrix of the errors is correctly specified.\n"
          ]
        }
      ]
    },
    {
      "cell_type": "code",
      "metadata": {
        "colab": {
          "base_uri": "https://localhost:8080/",
          "height": 331
        },
        "id": "-y4N0E14jA_z",
        "outputId": "cd64c7c6-2fa7-4580-d9fd-acf914444367"
      },
      "source": [
        "##Create a dataframe that will contain the names of all the feature variables and their respective VIFs\n",
        "vif = pd.DataFrame()\n",
        "vif['Features'] = X_train_rfe1.columns\n",
        "vif['VIF'] = [variance_inflation_factor(X_train_rfe1.values, i) for i in range(X_train_rfe1.shape[1])]\n",
        "vif['VIF'] = round(vif['VIF'], 2)\n",
        "vif = vif.sort_values(by = \"VIF\", ascending = False)\n",
        "vif"
      ],
      "execution_count": null,
      "outputs": [
        {
          "output_type": "execute_result",
          "data": {
            "text/html": [
              "<div>\n",
              "<style scoped>\n",
              "    .dataframe tbody tr th:only-of-type {\n",
              "        vertical-align: middle;\n",
              "    }\n",
              "\n",
              "    .dataframe tbody tr th {\n",
              "        vertical-align: top;\n",
              "    }\n",
              "\n",
              "    .dataframe thead th {\n",
              "        text-align: right;\n",
              "    }\n",
              "</style>\n",
              "<table border=\"1\" class=\"dataframe\">\n",
              "  <thead>\n",
              "    <tr style=\"text-align: right;\">\n",
              "      <th></th>\n",
              "      <th>Features</th>\n",
              "      <th>VIF</th>\n",
              "    </tr>\n",
              "  </thead>\n",
              "  <tbody>\n",
              "    <tr>\n",
              "      <th>3</th>\n",
              "      <td>No_of_Comment_added</td>\n",
              "      <td>2.91</td>\n",
              "    </tr>\n",
              "    <tr>\n",
              "      <th>4</th>\n",
              "      <td>No_of_Images_added</td>\n",
              "      <td>2.67</td>\n",
              "    </tr>\n",
              "    <tr>\n",
              "      <th>5</th>\n",
              "      <td>Orders_returned</td>\n",
              "      <td>1.62</td>\n",
              "    </tr>\n",
              "    <tr>\n",
              "      <th>1</th>\n",
              "      <td>Maximum_bill</td>\n",
              "      <td>1.32</td>\n",
              "    </tr>\n",
              "    <tr>\n",
              "      <th>6</th>\n",
              "      <td>Category_of_customers_Inactive</td>\n",
              "      <td>1.11</td>\n",
              "    </tr>\n",
              "    <tr>\n",
              "      <th>2</th>\n",
              "      <td>Minimum_bill</td>\n",
              "      <td>1.09</td>\n",
              "    </tr>\n",
              "    <tr>\n",
              "      <th>7</th>\n",
              "      <td>Category_of_customers_Passive</td>\n",
              "      <td>1.09</td>\n",
              "    </tr>\n",
              "    <tr>\n",
              "      <th>0</th>\n",
              "      <td>const</td>\n",
              "      <td>1.00</td>\n",
              "    </tr>\n",
              "    <tr>\n",
              "      <th>8</th>\n",
              "      <td>Premium_Yes</td>\n",
              "      <td>1.00</td>\n",
              "    </tr>\n",
              "  </tbody>\n",
              "</table>\n",
              "</div>"
            ],
            "text/plain": [
              "                         Features   VIF\n",
              "3             No_of_Comment_added  2.91\n",
              "4              No_of_Images_added  2.67\n",
              "5                 Orders_returned  1.62\n",
              "1                    Maximum_bill  1.32\n",
              "6  Category_of_customers_Inactive  1.11\n",
              "2                    Minimum_bill  1.09\n",
              "7   Category_of_customers_Passive  1.09\n",
              "0                           const  1.00\n",
              "8                     Premium_Yes  1.00"
            ]
          },
          "metadata": {},
          "execution_count": 66
        }
      ]
    },
    {
      "cell_type": "code",
      "metadata": {
        "id": "oSELVQN0jSUk"
      },
      "source": [
        "y_train_price = lm_4.predict(X_train_rfe1)"
      ],
      "execution_count": null,
      "outputs": []
    },
    {
      "cell_type": "code",
      "metadata": {
        "colab": {
          "base_uri": "https://localhost:8080/",
          "height": 388
        },
        "id": "Pq7g3RFOjrc5",
        "outputId": "f853df1d-bab6-4311-c2db-813f11698293"
      },
      "source": [
        "# Plot the histogram of the error terms\n",
        "fig = plt.figure()\n",
        "sns.distplot((y_train - y_train_price), bins = 20)\n",
        "fig.suptitle('Error Terms', fontsize = 20)                  # Plot heading \n",
        "plt.xlabel('Errors', fontsize = 18)  "
      ],
      "execution_count": null,
      "outputs": [
        {
          "output_type": "stream",
          "name": "stderr",
          "text": [
            "/usr/local/lib/python3.7/dist-packages/seaborn/distributions.py:2619: FutureWarning: `distplot` is a deprecated function and will be removed in a future version. Please adapt your code to use either `displot` (a figure-level function with similar flexibility) or `histplot` (an axes-level function for histograms).\n",
            "  warnings.warn(msg, FutureWarning)\n"
          ]
        },
        {
          "output_type": "execute_result",
          "data": {
            "text/plain": [
              "Text(0.5, 0, 'Errors')"
            ]
          },
          "metadata": {},
          "execution_count": 68
        },
        {
          "output_type": "display_data",
          "data": {
            "image/png": "[encoded data removed]",
            "text/plain": [
              "<Figure size 432x288 with 1 Axes>"
            ]
          },
          "metadata": {
            "needs_background": "light"
          }
        }
      ]
    },
    {
      "cell_type": "markdown",
      "metadata": {
        "id": "YPLHto2SkMgV"
      },
      "source": [
        "The error terms are fairly normally distributed and we can surely live with this. Let's now make predictions on the test-set."
      ]
    },
    {
      "cell_type": "code",
      "metadata": {
        "colab": {
          "base_uri": "https://localhost:8080/"
        },
        "id": "VyIu5kHeliQg",
        "outputId": "afa5ba83-2e43-4112-e580-4e9a9d06d691"
      },
      "source": [
        "# r2_score for 8 variables\n",
        "from sklearn.metrics import r2_score\n",
        "r2_score(y_train, y_train_price)\n",
        "\n",
        "#score = max( 0 , 100*(r2_score(y_train, y_train_price)) )\n",
        "#print(score)"
      ],
      "execution_count": null,
      "outputs": [
        {
          "output_type": "execute_result",
          "data": {
            "text/plain": [
              "0.4804297706646087"
            ]
          },
          "metadata": {},
          "execution_count": 77
        }
      ]
    },
    {
      "cell_type": "code",
      "metadata": {
        "id": "dejqBSnXjw7v"
      },
      "source": [
        "data_test = pd.read_csv(\"/content/drive/MyDrive/Colab Notebooks/dataset/test.csv\")"
      ],
      "execution_count": null,
      "outputs": []
    },
    {
      "cell_type": "code",
      "metadata": {
        "colab": {
          "base_uri": "https://localhost:8080/",
          "height": 313
        },
        "id": "b16QeKhNkINQ",
        "outputId": "e3b6d8cb-e186-48d8-d492-a1e8130e0da8"
      },
      "source": [
        "##checking the test dataset\n",
        "data_test.head()"
      ],
      "execution_count": null,
      "outputs": [
        {
          "output_type": "execute_result",
          "data": {
            "text/html": [
              "<div>\n",
              "<style scoped>\n",
              "    .dataframe tbody tr th:only-of-type {\n",
              "        vertical-align: middle;\n",
              "    }\n",
              "\n",
              "    .dataframe tbody tr th {\n",
              "        vertical-align: top;\n",
              "    }\n",
              "\n",
              "    .dataframe thead th {\n",
              "        text-align: right;\n",
              "    }\n",
              "</style>\n",
              "<table border=\"1\" class=\"dataframe\">\n",
              "  <thead>\n",
              "    <tr style=\"text-align: right;\">\n",
              "      <th></th>\n",
              "      <th>Customer_ID</th>\n",
              "      <th>Sign_up_date</th>\n",
              "      <th>Last_order_placed_date</th>\n",
              "      <th>No_of_orders_placed</th>\n",
              "      <th>Maximum_bill</th>\n",
              "      <th>Minimum_bill</th>\n",
              "      <th>No_of_Review_given</th>\n",
              "      <th>No_of_Comment_added</th>\n",
              "      <th>No_of_Images_added</th>\n",
              "      <th>No_of_issues_raised</th>\n",
              "      <th>Orders_returned</th>\n",
              "      <th>Category_of_customers</th>\n",
              "      <th>Gender</th>\n",
              "      <th>Premium</th>\n",
              "    </tr>\n",
              "  </thead>\n",
              "  <tbody>\n",
              "    <tr>\n",
              "      <th>0</th>\n",
              "      <td>ID0x163e</td>\n",
              "      <td>04/29/2017 03:10 PM</td>\n",
              "      <td>09/02/2017 09:52 AM</td>\n",
              "      <td>79</td>\n",
              "      <td>217.26</td>\n",
              "      <td>194.00</td>\n",
              "      <td>29.0</td>\n",
              "      <td>10</td>\n",
              "      <td>4.0</td>\n",
              "      <td>9</td>\n",
              "      <td>2</td>\n",
              "      <td>Passive</td>\n",
              "      <td>Male</td>\n",
              "      <td>No</td>\n",
              "    </tr>\n",
              "    <tr>\n",
              "      <th>1</th>\n",
              "      <td>ID0x22c3</td>\n",
              "      <td>10/13/2014 11:45 AM</td>\n",
              "      <td>08/30/2015 11:43 PM</td>\n",
              "      <td>52</td>\n",
              "      <td>320.02</td>\n",
              "      <td>167.00</td>\n",
              "      <td>22.0</td>\n",
              "      <td>12</td>\n",
              "      <td>7.0</td>\n",
              "      <td>10</td>\n",
              "      <td>0</td>\n",
              "      <td>Passive</td>\n",
              "      <td>Male</td>\n",
              "      <td>No</td>\n",
              "    </tr>\n",
              "    <tr>\n",
              "      <th>2</th>\n",
              "      <td>ID0x3d79</td>\n",
              "      <td>11/07/2010 06:36 PM</td>\n",
              "      <td>10/24/2011 12:29 PM</td>\n",
              "      <td>63</td>\n",
              "      <td>127.26</td>\n",
              "      <td>261.00</td>\n",
              "      <td>21.0</td>\n",
              "      <td>9</td>\n",
              "      <td>10.0</td>\n",
              "      <td>8</td>\n",
              "      <td>0</td>\n",
              "      <td>Inactive</td>\n",
              "      <td>Female</td>\n",
              "      <td>Yes</td>\n",
              "    </tr>\n",
              "    <tr>\n",
              "      <th>3</th>\n",
              "      <td>ID0x25f1</td>\n",
              "      <td>06/01/2018 07:59 PM</td>\n",
              "      <td>01/23/2020 01:32 AM</td>\n",
              "      <td>29</td>\n",
              "      <td>745.10</td>\n",
              "      <td>158.70</td>\n",
              "      <td>13.0</td>\n",
              "      <td>5</td>\n",
              "      <td>3.0</td>\n",
              "      <td>5</td>\n",
              "      <td>0</td>\n",
              "      <td>Active</td>\n",
              "      <td>Male</td>\n",
              "      <td>No</td>\n",
              "    </tr>\n",
              "    <tr>\n",
              "      <th>4</th>\n",
              "      <td>ID0x1fa5</td>\n",
              "      <td>09/27/2015 01:13 AM</td>\n",
              "      <td>04/30/2016 04:29 PM</td>\n",
              "      <td>40</td>\n",
              "      <td>825.36</td>\n",
              "      <td>104.93</td>\n",
              "      <td>14.0</td>\n",
              "      <td>4</td>\n",
              "      <td>6.0</td>\n",
              "      <td>4</td>\n",
              "      <td>1</td>\n",
              "      <td>Passive</td>\n",
              "      <td>Male</td>\n",
              "      <td>No</td>\n",
              "    </tr>\n",
              "  </tbody>\n",
              "</table>\n",
              "</div>"
            ],
            "text/plain": [
              "  Customer_ID         Sign_up_date  ...  Gender  Premium\n",
              "0    ID0x163e  04/29/2017 03:10 PM  ...    Male       No\n",
              "1    ID0x22c3  10/13/2014 11:45 AM  ...    Male       No\n",
              "2    ID0x3d79  11/07/2010 06:36 PM  ...  Female      Yes\n",
              "3    ID0x25f1  06/01/2018 07:59 PM  ...    Male       No\n",
              "4    ID0x1fa5  09/27/2015 01:13 AM  ...    Male       No\n",
              "\n",
              "[5 rows x 14 columns]"
            ]
          },
          "metadata": {},
          "execution_count": 70
        }
      ]
    },
    {
      "cell_type": "code",
      "metadata": {
        "colab": {
          "base_uri": "https://localhost:8080/"
        },
        "id": "iJZIaOKCkoV4",
        "outputId": "5625c692-6fb2-498a-aa58-2f3aa3a4b147"
      },
      "source": [
        "#calculating column missing percentage\n",
        "(round(100 * (data_test.isnull().sum() / data_test.shape[0]),2)).sort_values(ascending=False)"
      ],
      "execution_count": null,
      "outputs": [
        {
          "output_type": "execute_result",
          "data": {
            "text/plain": [
              "Category_of_customers     4.22\n",
              "No_of_Images_added        3.93\n",
              "No_of_Review_given        3.70\n",
              "Maximum_bill              2.92\n",
              "Last_order_placed_date    2.63\n",
              "Sign_up_date              1.72\n",
              "Premium                   0.00\n",
              "Gender                    0.00\n",
              "Orders_returned           0.00\n",
              "No_of_issues_raised       0.00\n",
              "No_of_Comment_added       0.00\n",
              "Minimum_bill              0.00\n",
              "No_of_orders_placed       0.00\n",
              "Customer_ID               0.00\n",
              "dtype: float64"
            ]
          },
          "metadata": {},
          "execution_count": 71
        }
      ]
    },
    {
      "cell_type": "code",
      "metadata": {
        "id": "1SRekEl9k3fQ"
      },
      "source": [
        ""
      ],
      "execution_count": null,
      "outputs": []
    }
  ]
}